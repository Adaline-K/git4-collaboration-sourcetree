{
  "nbformat": 4,
  "nbformat_minor": 0,
  "metadata": {
    "colab": {
      "name": "data_test01.ipynb",
      "provenance": [],
      "collapsed_sections": [],
      "authorship_tag": "ABX9TyOiWghLW4Roow9EHH/3kd9b",
      "include_colab_link": true
    },
    "kernelspec": {
      "name": "python3",
      "display_name": "Python 3"
    }
  },
  "cells": [
    {
      "cell_type": "markdown",
      "metadata": {
        "id": "view-in-github",
        "colab_type": "text"
      },
      "source": [
        "<a href=\"https://colab.research.google.com/github/Adaline-K/git4-collaboration-sourcetree/blob/master/data_test01.ipynb\" target=\"_parent\"><img src=\"https://colab.research.google.com/assets/colab-badge.svg\" alt=\"Open In Colab\"/></a>"
      ]
    },
    {
      "cell_type": "markdown",
      "metadata": {
        "id": "aYTYVz-MEDz9"
      },
      "source": [
        "파이썬 기초문법 익히기"
      ]
    },
    {
      "cell_type": "code",
      "metadata": {
        "colab": {
          "base_uri": "https://localhost:8080/"
        },
        "id": "lSA4AYr78PM8",
        "outputId": "a6390e66-9325-4636-9f60-39d01c754573"
      },
      "source": [
        "b=55\r\n",
        "print(b)"
      ],
      "execution_count": null,
      "outputs": [
        {
          "output_type": "stream",
          "text": [
            "55\n"
          ],
          "name": "stdout"
        }
      ]
    },
    {
      "cell_type": "code",
      "metadata": {
        "colab": {
          "base_uri": "https://localhost:8080/"
        },
        "id": "8Ots96GC_CqU",
        "outputId": "f8d42671-695b-4d9c-8d99-dab83f1d7c8a"
      },
      "source": [
        "a=1\r\n",
        "if a % 2==0:\r\n",
        "  print(\"짝수\")\r\n",
        "else:\r\n",
        "  print(\"홀수\")\r\n"
      ],
      "execution_count": null,
      "outputs": [
        {
          "output_type": "stream",
          "text": [
            "홀수\n"
          ],
          "name": "stdout"
        }
      ]
    },
    {
      "cell_type": "code",
      "metadata": {
        "colab": {
          "base_uri": "https://localhost:8080/"
        },
        "id": "zQuu4BLv_QSk",
        "outputId": "e65c91a7-cb20-4c52-d1af-35d011d50cc6"
      },
      "source": [
        "b=55\r\n",
        "if(b>=10) & (b< 100) & (b%2 ==0):\r\n",
        "  print(\"자리 수의 짝수이다.\")\r\n",
        "else:\r\n",
        "  print(\"2자리 수의 짝수가 아니다\")\r\n"
      ],
      "execution_count": null,
      "outputs": [
        {
          "output_type": "stream",
          "text": [
            "2자리 수의 짝수가 아니다\n"
          ],
          "name": "stdout"
        }
      ]
    },
    {
      "cell_type": "code",
      "metadata": {
        "colab": {
          "base_uri": "https://localhost:8080/"
        },
        "id": "Tdqb54O-_vSt",
        "outputId": "d5a3a2ed-8dbf-4de7-9602-5426d35a8303"
      },
      "source": [
        "c=6\r\n",
        "if c>=8:\r\n",
        "  print(\"A\")\r\n",
        "elif c >=5:\r\n",
        "  print(\"B\")\r\n",
        "else:\r\n",
        "  print(\"C\")\r\n"
      ],
      "execution_count": null,
      "outputs": [
        {
          "output_type": "stream",
          "text": [
            "B\n"
          ],
          "name": "stdout"
        }
      ]
    },
    {
      "cell_type": "code",
      "metadata": {
        "colab": {
          "base_uri": "https://localhost:8080/"
        },
        "id": "waxfXNsyApgC",
        "outputId": "bd86c10c-abf8-4194-baf3-b74b05e57687"
      },
      "source": [
        "sex= \"boy\"\r\n",
        "pushup=8\r\n",
        "\r\n",
        "if sex ==\"boy\":\r\n",
        "  if pushup >=10:\r\n",
        "    grade = \"pass\"\r\n",
        "  else:\r\n",
        "    grade =\"Fail\"\r\n",
        "else:\r\n",
        "  if pushup >=10:\r\n",
        "    grade= \"pass\"\r\n",
        "  else:\r\n",
        "    grade=\"Fail\"\r\n",
        "  \r\n",
        "print(grade)"
      ],
      "execution_count": null,
      "outputs": [
        {
          "output_type": "stream",
          "text": [
            "Fail\n"
          ],
          "name": "stdout"
        }
      ]
    },
    {
      "cell_type": "code",
      "metadata": {
        "colab": {
          "base_uri": "https://localhost:8080/"
        },
        "id": "wK6mh0eFBhwK",
        "outputId": "e8b9e5b2-9e45-4a1d-be92-07bca8a0b68b"
      },
      "source": [
        "def twotimes(x):\r\n",
        "  y=2*x\r\n",
        "  return y\r\n",
        "\r\n",
        "print(twotimes(2))\r\n",
        "print(twotimes(-3))"
      ],
      "execution_count": null,
      "outputs": [
        {
          "output_type": "stream",
          "text": [
            "4\n",
            "-6\n"
          ],
          "name": "stdout"
        }
      ]
    },
    {
      "cell_type": "code",
      "metadata": {
        "colab": {
          "base_uri": "https://localhost:8080/"
        },
        "id": "P3WBkQ7_CLKa",
        "outputId": "c6aa4b31-c376-4568-97b7-777e4092d8b6"
      },
      "source": [
        "def add(x,y):\r\n",
        "  return x+y\r\n",
        "\r\n",
        "print(add(1,2))\r\n",
        "print(add(-4, -7))\r\n",
        "print(add(-4.0, 8.6))\r\n",
        "print(add('a','b'))"
      ],
      "execution_count": null,
      "outputs": [
        {
          "output_type": "stream",
          "text": [
            "3\n",
            "-11\n",
            "4.6\n",
            "ab\n"
          ],
          "name": "stdout"
        }
      ]
    },
    {
      "cell_type": "code",
      "metadata": {
        "colab": {
          "base_uri": "https://localhost:8080/"
        },
        "id": "UvV5RbpZCogI",
        "outputId": "1e90c843-4539-47e6-ccd5-f5231037d85e"
      },
      "source": [
        "def sum(a,b,c):\r\n",
        "  s=a+b+c\r\n",
        "  return s \r\n",
        "\r\n",
        "print(sum(0, -2, 3.0))\r\n",
        "print(sum(-100, 0, 3.0))"
      ],
      "execution_count": null,
      "outputs": [
        {
          "output_type": "stream",
          "text": [
            "1.0\n",
            "-97.0\n"
          ],
          "name": "stdout"
        }
      ]
    },
    {
      "cell_type": "code",
      "metadata": {
        "colab": {
          "base_uri": "https://localhost:8080/"
        },
        "id": "wBwsxSswDKbY",
        "outputId": "1732e470-ada7-48f1-a4c6-4eccf062498b"
      },
      "source": [
        "f= lambda x : 2*x\r\n",
        "print(f(2))"
      ],
      "execution_count": null,
      "outputs": [
        {
          "output_type": "stream",
          "text": [
            "4\n"
          ],
          "name": "stdout"
        }
      ]
    },
    {
      "cell_type": "code",
      "metadata": {
        "colab": {
          "base_uri": "https://localhost:8080/"
        },
        "id": "WeEYNqCKD6MV",
        "outputId": "a5138f8d-3df9-46f5-cd0a-8a583ea5fb63"
      },
      "source": [
        "z=3\r\n",
        "\r\n",
        "def f2(x):\r\n",
        "  y=z*x\r\n",
        "  print(\"y=\", y)\r\n",
        "  print(\"z=\", z)\r\n",
        "  return y \r\n",
        "\r\n",
        "f2(3)\r\n"
      ],
      "execution_count": null,
      "outputs": [
        {
          "output_type": "stream",
          "text": [
            "y= 9\n",
            "z= 3\n"
          ],
          "name": "stdout"
        },
        {
          "output_type": "execute_result",
          "data": {
            "text/plain": [
              "9"
            ]
          },
          "metadata": {
            "tags": []
          },
          "execution_count": 21
        }
      ]
    },
    {
      "cell_type": "code",
      "metadata": {
        "id": "J8zAU0KSExEx"
      },
      "source": [
        "for i in range (10):\r\n",
        " print(i)\r\n",
        "for j in range(10):\r\n",
        "  print(\"=\"+str(j) + \"=\")"
      ],
      "execution_count": null,
      "outputs": []
    },
    {
      "cell_type": "code",
      "metadata": {
        "id": "3PqZwsRDGHEV"
      },
      "source": [
        "for i in range (9):\r\n",
        "  print(\"=\" + str(i +1)+\"=\")"
      ],
      "execution_count": null,
      "outputs": []
    },
    {
      "cell_type": "code",
      "metadata": {
        "id": "2jFofuA-HC0j"
      },
      "source": [
        "for i in range(10):\r\n",
        "  print(\"*\"*(i+1))\r\n",
        "\r\n",
        "for j in range(10):\r\n",
        "  print(\"*\"*(10-j))"
      ],
      "execution_count": null,
      "outputs": []
    },
    {
      "cell_type": "code",
      "metadata": {
        "id": "ZVv_EhzMHu1l"
      },
      "source": [
        "for i in range(4):\r\n",
        "  for j in range(4):\r\n",
        "    print(i+j, end=\"\")\r\n",
        "  print()\r\n"
      ],
      "execution_count": null,
      "outputs": []
    },
    {
      "cell_type": "code",
      "metadata": {
        "id": "aI2oDe9NJ28p"
      },
      "source": [
        ""
      ],
      "execution_count": null,
      "outputs": []
    },
    {
      "cell_type": "code",
      "metadata": {
        "id": "1li_Bqc_JFGL"
      },
      "source": [
        "for i in range(6):\r\n",
        "  n1= i+ 1\r\n",
        "  for j in range(6):\r\n",
        "    n2=j+1\r\n",
        "    print(n1, n2)"
      ],
      "execution_count": null,
      "outputs": []
    },
    {
      "cell_type": "code",
      "metadata": {
        "id": "DbxS5UA3J6F-"
      },
      "source": [
        "for i in range(6):\r\n",
        "  n1=i+1\r\n",
        "  for j in range(6):\r\n",
        "    n2= j+1\r\n",
        "    n= n1+n2\r\n",
        "    if n % 4 == 0:\r\n",
        "      print(n1, n2)"
      ],
      "execution_count": null,
      "outputs": []
    },
    {
      "cell_type": "code",
      "metadata": {
        "id": "jeAEZNToKt9D"
      },
      "source": [
        "n=5\r\n",
        "\r\n",
        "sum=0\r\n",
        "for i in range(n):\r\n",
        "  sum= sum+ (i +1)\r\n",
        "print(sum)"
      ],
      "execution_count": null,
      "outputs": []
    },
    {
      "cell_type": "code",
      "metadata": {
        "id": "nBkgYtMuLGKu"
      },
      "source": [
        "x=[88, 90, 100]\r\n",
        "print(x[0])\r\n",
        "print(x)\r\n",
        "print((x[0]+x[1])/2)\r\n"
      ],
      "execution_count": null,
      "outputs": []
    },
    {
      "cell_type": "code",
      "metadata": {
        "id": "sRWNof65L7iY"
      },
      "source": [
        "b= {\"math\":88, \"english\": 90, \"history\": 100 }\r\n",
        "b[\"math\"]\r\n",
        "(b[\"math\"]+b[\"english\"])/2"
      ],
      "execution_count": null,
      "outputs": []
    },
    {
      "cell_type": "code",
      "metadata": {
        "id": "msdk-e-jMtXJ"
      },
      "source": [
        "b2={1:10, 2:20}\r\n",
        "b2[1]"
      ],
      "execution_count": null,
      "outputs": []
    },
    {
      "cell_type": "code",
      "metadata": {
        "id": "reGs8ItHM6tl"
      },
      "source": [
        "d=[1,3.14, \"pi\"]\r\n",
        "c=[[1,2], ['a','b']]\r\n",
        "print(c[0])\r\n",
        "print(c[0][0])"
      ],
      "execution_count": null,
      "outputs": []
    },
    {
      "cell_type": "code",
      "metadata": {
        "id": "NCbkrAeFN3y6"
      },
      "source": [
        "f=[{0:0, 1:10}, {0:1, 1:2}]\r\n",
        "f[0][0]"
      ],
      "execution_count": null,
      "outputs": []
    },
    {
      "cell_type": "code",
      "metadata": {
        "id": "-d_RrmK7OMdh"
      },
      "source": [
        "a=[1,2,3]\r\n",
        "len(a)"
      ],
      "execution_count": null,
      "outputs": []
    },
    {
      "cell_type": "code",
      "metadata": {
        "id": "_6AECYS-Og98"
      },
      "source": [
        "b=list(range(10))\r\n",
        "c=list(range(2, 10))\r\n",
        "d=list(range(1, 10, 3))\r\n",
        "\r\n",
        "print(b)\r\n",
        "b[0]=100\r\n",
        "b\r\n"
      ],
      "execution_count": null,
      "outputs": []
    },
    {
      "cell_type": "code",
      "metadata": {
        "id": "0Pq7FKZXQnjL"
      },
      "source": [
        "e=list(range(4))\r\n",
        "e.append(4)\r\n",
        "print(e)\r\n",
        "e.append(10)\r\n",
        "print(e)\r\n",
        "\r\n",
        "del e[0]\r\n",
        "print(e)\r\n",
        "\r\n",
        "del e[3]\r\n",
        "print(e)"
      ],
      "execution_count": null,
      "outputs": []
    },
    {
      "cell_type": "code",
      "metadata": {
        "id": "MUgjgb-DRk7C"
      },
      "source": [
        "g=list(range(20))\r\n",
        "print(g[:5])\r\n",
        "print(g[10:15])\r\n",
        "print(g[-1])\r\n",
        "print(g[-3:-1])"
      ],
      "execution_count": null,
      "outputs": []
    },
    {
      "cell_type": "code",
      "metadata": {
        "id": "yczb4ssTSYtP"
      },
      "source": [
        "h=[1,2,3]\r\n",
        "h1,h2, h3=h\r\n"
      ],
      "execution_count": null,
      "outputs": []
    },
    {
      "cell_type": "code",
      "metadata": {
        "id": "VsRC1ElmSsID"
      },
      "source": [
        "a=[90, 85,95,90, 100,85,75,85,80]\r\n",
        "print(a)\r\n",
        "len(a)\r\n",
        "\r\n",
        "sum=0\r\n",
        "\r\n",
        "for i in range(len(a)):\r\n",
        "  sum = sum+a[i]\r\n",
        "  avg = sum/ len(a)\r\n",
        "\r\n",
        "avg"
      ],
      "execution_count": null,
      "outputs": []
    },
    {
      "cell_type": "code",
      "metadata": {
        "colab": {
          "base_uri": "https://localhost:8080/"
        },
        "id": "GJvL5M66T_Bm",
        "outputId": "463739b3-a4b0-4c92-b689-07e7237e1928"
      },
      "source": [
        "s=[]\r\n",
        "a1=[90,85,95,80,90,100,85, 75,85,80]\r\n",
        "a2=[95,90,90,90,95,100,90,80,95,90]\r\n",
        "\r\n",
        "for i in range(len(a1)):\r\n",
        "  s.append(a1[i] +a2[i])\r\n",
        "s"
      ],
      "execution_count": null,
      "outputs": [
        {
          "output_type": "execute_result",
          "data": {
            "text/plain": [
              "[185, 175, 185, 170, 185, 200, 175, 155, 180, 170]"
            ]
          },
          "metadata": {
            "tags": []
          },
          "execution_count": 89
        }
      ]
    },
    {
      "cell_type": "code",
      "metadata": {
        "colab": {
          "base_uri": "https://localhost:8080/"
        },
        "id": "fSQ6BRzUU7bq",
        "outputId": "e0518377-2b8f-49f1-8b8a-2f63dc694348"
      },
      "source": [
        "list(range(5))"
      ],
      "execution_count": null,
      "outputs": [
        {
          "output_type": "execute_result",
          "data": {
            "text/plain": [
              "[0, 1, 2, 3, 4]"
            ]
          },
          "metadata": {
            "tags": []
          },
          "execution_count": 90
        }
      ]
    },
    {
      "cell_type": "code",
      "metadata": {
        "colab": {
          "base_uri": "https://localhost:8080/"
        },
        "id": "i-aCieIJWKiA",
        "outputId": "8caa5d76-0bf9-4236-e47d-44ce7d93c713"
      },
      "source": [
        "for i, e in enumerate([\"a\",\"b\",\"c\"]):\r\n",
        "  print(\"i =%d, e= %s\" %(i,e))"
      ],
      "execution_count": null,
      "outputs": [
        {
          "output_type": "stream",
          "text": [
            "i =0, e= a,\n",
            "i =1, e= b\n",
            "i =2, e= c\n"
          ],
          "name": "stdout"
        }
      ]
    },
    {
      "cell_type": "code",
      "metadata": {
        "id": "QQp5xJ1VXIMy",
        "colab": {
          "base_uri": "https://localhost:8080/"
        },
        "outputId": "b000ea60-63c6-400f-e0aa-d89a672270b5"
      },
      "source": [
        "x = [[85,  90,  20,  50,  60,  25,  30,  75,  40,  55],\r\n",
        "     [70, 100,  70,  70,  55,  75,  55,  60,  40,  45],\r\n",
        "     [25,  65,  15,  25,  20,   5,  60,  70,  35,  10],\r\n",
        "     [80,  45,  80,  40,  75,  35,  80,  55,  70,  90],\r\n",
        "     [35,  50,  75,  25,  35,  70,  65,  50,  70,  10]]\r\n",
        "\r\n",
        "sum=0\r\n",
        "num=0\r\n",
        "\r\n",
        "for i in range(len(x)):\r\n",
        "  for j in range(len(x[i])):\r\n",
        "    num =num+1\r\n",
        "    sum= sum+ x[i][j]\r\n",
        "\r\n",
        "print(num)\r\n",
        "print(sum)\r\n",
        "print(sum/num)"
      ],
      "execution_count": null,
      "outputs": [
        {
          "output_type": "stream",
          "text": [
            "50\n",
            "2635\n",
            "52.7\n"
          ],
          "name": "stdout"
        }
      ]
    },
    {
      "cell_type": "code",
      "metadata": {
        "colab": {
          "base_uri": "https://localhost:8080/"
        },
        "id": "qI3M-r9kZbTZ",
        "outputId": "602883a4-42e4-4bba-f698-7bf8d96a0069"
      },
      "source": [
        "a12=list(zip(a1, a2))\r\n",
        "print(a12)\r\n",
        "\r\n",
        "for a1i, a2i in zip(a1, a2):\r\n",
        "  s.append(a1i+a2i)\r\n",
        "print(s)"
      ],
      "execution_count": null,
      "outputs": [
        {
          "output_type": "stream",
          "text": [
            "[(90, 95), (85, 90), (95, 90), (80, 90), (90, 95), (100, 100), (85, 90), (75, 80), (85, 95), (80, 90)]\n",
            "[185, 175, 185, 170, 185, 200, 175, 155, 180, 170, 185, 175, 185, 170, 185, 200, 175, 155, 180, 170]\n"
          ],
          "name": "stdout"
        }
      ]
    },
    {
      "cell_type": "code",
      "metadata": {
        "colab": {
          "base_uri": "https://localhost:8080/"
        },
        "id": "0vQvPhEMbafc",
        "outputId": "6bd482cf-f782-4f61-87b0-7d3a6828fc66"
      },
      "source": [
        "x={\"a\":10, \"b\":20}\r\n",
        "len(x)\r\n",
        "\r\n",
        "x[\"a\"]=30\r\n",
        "x[\"c\"]=60\r\n",
        "del x[\"b\"]\r\n",
        "x"
      ],
      "execution_count": null,
      "outputs": [
        {
          "output_type": "execute_result",
          "data": {
            "text/plain": [
              "{'a': 30, 'c': 60}"
            ]
          },
          "metadata": {
            "tags": []
          },
          "execution_count": 107
        }
      ]
    },
    {
      "cell_type": "code",
      "metadata": {
        "colab": {
          "base_uri": "https://localhost:8080/"
        },
        "id": "u3xnvdq-cJab",
        "outputId": "84d46e59-dada-4467-c98a-5ce36519e8b5"
      },
      "source": [
        "\"a\" in x\r\n",
        "\"d\" in x\r\n"
      ],
      "execution_count": null,
      "outputs": [
        {
          "output_type": "execute_result",
          "data": {
            "text/plain": [
              "False"
            ]
          },
          "metadata": {
            "tags": []
          },
          "execution_count": 109
        }
      ]
    },
    {
      "cell_type": "code",
      "metadata": {
        "colab": {
          "base_uri": "https://localhost:8080/"
        },
        "id": "qxHRtc2pcfZM",
        "outputId": "021953b0-d65e-4f87-dbf9-99f5d2d8e1f5"
      },
      "source": [
        "for k, v in x.items():\r\n",
        " print(\"key [%s] => value [%d]\" % (k,v))"
      ],
      "execution_count": null,
      "outputs": [
        {
          "output_type": "stream",
          "text": [
            "key [a] => value [30]\n",
            "key [c] => value [60]\n"
          ],
          "name": "stdout"
        }
      ]
    },
    {
      "cell_type": "code",
      "metadata": {
        "colab": {
          "base_uri": "https://localhost:8080/"
        },
        "id": "WY48Q7OGdyUA",
        "outputId": "57504c7d-59df-41b2-af71-23ed2872c71f"
      },
      "source": [
        "h=10\r\n",
        "v=20\r\n",
        "\r\n",
        "def area(h,v):\r\n",
        "   return h*v\r\n",
        "\r\n",
        "a= area(h, v)\r\n",
        "print(a)"
      ],
      "execution_count": null,
      "outputs": [
        {
          "output_type": "stream",
          "text": [
            "200\n"
          ],
          "name": "stdout"
        }
      ]
    },
    {
      "cell_type": "code",
      "metadata": {
        "id": "BUI4rNIWefnp"
      },
      "source": [
        "class Rectangle(object):\r\n",
        "\r\n",
        "  def __init__(self, h, v):\r\n",
        "    self.h= h\r\n",
        "    self.v= v\r\n",
        "  \r\n",
        "  def area(self):\r\n",
        "    return self.h * self.v\r\n",
        "\r\n",
        "a=Rectangle(1,1)\r\n",
        "b=Rectangle(2,1)\r\n",
        "c=Rectangle(3,1)\r\n",
        "d=Rectangle(4,1)\r\n",
        "\r\n",
        "print(a.area())\r\n",
        "\r\n",
        "print(b.area())\r\n",
        "\r\n",
        "print(c.area())\r\n",
        "\r\n",
        "print(d.area())"
      ],
      "execution_count": null,
      "outputs": []
    },
    {
      "cell_type": "markdown",
      "metadata": {
        "id": "2SVwdtGPzvOQ"
      },
      "source": [
        "# 새 섹션"
      ]
    },
    {
      "cell_type": "code",
      "metadata": {
        "id": "nWHDPMfehogt"
      },
      "source": [
        "class Character(object):\r\n",
        "\r\n",
        "  def __init__(self):\r\n",
        "    self.life = 1000\r\n",
        "\r\n",
        "  def attacted(self):\r\n",
        "    self.life-=10\r\n",
        "    print(\"공격받음! 생명력=\", self.life)\r\n",
        "\r\n",
        "class Warrior(Character):\r\n",
        "\r\n",
        "  def __init__(self):\r\n",
        "    super(Warrior, self).__init__()\r\n",
        "    self.strength=15\r\n",
        "    self.intelligence=5\r\n",
        "\r\n",
        "class Wizard(Character):\r\n",
        "\r\n",
        "  def __init__(self):\r\n",
        "    super(Wizard,self).__init__()\r\n",
        "    self.strength=5\r\n",
        "    self.intelligence=15\r\n",
        "\r\n",
        "  a=Warrior()\r\n",
        "  a.life\r\n"
      ],
      "execution_count": null,
      "outputs": []
    },
    {
      "cell_type": "code",
      "metadata": {
        "id": "eluR0U9NnoAf"
      },
      "source": [
        ""
      ],
      "execution_count": null,
      "outputs": []
    },
    {
      "cell_type": "code",
      "metadata": {
        "colab": {
          "base_uri": "https://localhost:8080/"
        },
        "id": "rtZ-_qd4jqLd",
        "outputId": "2d4759f0-c222-4059-d77d-614f4220b65a"
      },
      "source": [
        "class Character(object):\r\n",
        "\r\n",
        "  def __init__(self):\r\n",
        "    self.life = 1000\r\n",
        "\r\n",
        "  def attacted(self):\r\n",
        "    self.life-=10\r\n",
        "    print(\"공격받음! 생명력=\", self.life)\r\n",
        "\r\n",
        "\r\n",
        "class Warrior(Character):\r\n",
        "\r\n",
        "  def __init__(self):\r\n",
        "    super(Warrior, self).__init__()\r\n",
        "    self.strength=15\r\n",
        "    self.intelligence=5\r\n",
        "\r\n",
        "class Wizard(Character):\r\n",
        "\r\n",
        "  def __init__(self):\r\n",
        "    super(Wizard,self).__init__()\r\n",
        "    self.strength=5\r\n",
        "    self.intelligence=15\r\n",
        "\r\n",
        "\r\n",
        "c= Warrior()\r\n",
        "print(c.life)\r\n",
        "c.attacted()\r\n",
        "print(c.strength)\r\n",
        "\r\n",
        "d=Wizard()\r\n",
        "print(d.life)\r\n",
        "d.attacted()\r\n",
        "print(d.strength)"
      ],
      "execution_count": null,
      "outputs": [
        {
          "output_type": "stream",
          "text": [
            "1000\n",
            "공격받음! 생명력= 990\n",
            "15\n",
            "1000\n",
            "공격받음! 생명력= 990\n",
            "5\n"
          ],
          "name": "stdout"
        }
      ]
    },
    {
      "cell_type": "code",
      "metadata": {
        "colab": {
          "base_uri": "https://localhost:8080/"
        },
        "id": "0G6Z5d-Mpqxs",
        "outputId": "8b89d6d9-95ec-47c3-f2e8-b8582c660fa3"
      },
      "source": [
        "class Character(object):\r\n",
        "\r\n",
        "   def __init__(self):\r\n",
        "     self.life =1000\r\n",
        "     self.strength=10\r\n",
        "     self.intelligence=10\r\n",
        "\r\n",
        "   def attacted(self):\r\n",
        "    self.life -=10\r\n",
        "    print(\"공격받음!\", self.life)\r\n",
        "\r\n",
        "   def attack(self):\r\n",
        "     print(\"공격!\")\r\n",
        "\r\n",
        "\r\n",
        "class Warrior(Character):\r\n",
        "  \r\n",
        "   def __init__(self):\r\n",
        "     super(Warrior, self).__init__()\r\n",
        "     self.strength=15\r\n",
        "     self.intelligence=5\r\n",
        "\r\n",
        "   def attack(self):\r\n",
        "    print(\"파워 공격\")\r\n",
        "\r\n",
        "class Wizard(Character):\r\n",
        "\r\n",
        "  def __init__(self):\r\n",
        "    super(Wizard, self).__init__()\r\n",
        "    self.strength=5\r\n",
        "    self.intelligence=15\r\n",
        "\r\n",
        "  def attack(self):\r\n",
        "    print(\"매직 공격\")\r\n",
        "\r\n",
        "a= Character()\r\n",
        "b= Warrior()\r\n",
        "c= Wizard()\r\n",
        "\r\n",
        "a.attack()\r\n",
        "b.attack()\r\n",
        "c.attack()"
      ],
      "execution_count": null,
      "outputs": [
        {
          "output_type": "stream",
          "text": [
            "공격!\n",
            "파워 공격\n",
            "매직 공격\n"
          ],
          "name": "stdout"
        }
      ]
    },
    {
      "cell_type": "code",
      "metadata": {
        "id": "GETWLHV4s31w"
      },
      "source": [
        ""
      ],
      "execution_count": null,
      "outputs": []
    },
    {
      "cell_type": "code",
      "metadata": {
        "colab": {
          "base_uri": "https://localhost:8080/"
        },
        "id": "b5FTkHkWqPDn",
        "outputId": "26484e96-444c-4990-aef2-0591ee246709"
      },
      "source": [
        "import numpy as np\r\n",
        "np.arange(10)"
      ],
      "execution_count": null,
      "outputs": [
        {
          "output_type": "execute_result",
          "data": {
            "text/plain": [
              "array([0, 1, 2, 3, 4, 5, 6, 7, 8, 9])"
            ]
          },
          "metadata": {
            "tags": []
          },
          "execution_count": 161
        }
      ]
    },
    {
      "cell_type": "code",
      "metadata": {
        "colab": {
          "base_uri": "https://localhost:8080/"
        },
        "id": "exaUB25fuQpV",
        "outputId": "3098a157-6d98-415f-d7b2-dda00da5d9de"
      },
      "source": [
        "from sys import getsizeof\r\n",
        "\r\n",
        "a=1\r\n",
        "getsizeof(a)\r\n",
        "\r\n",
        "b=\"1\"\r\n",
        "getsizeof(b)\r\n",
        "\r\n"
      ],
      "execution_count": null,
      "outputs": [
        {
          "output_type": "execute_result",
          "data": {
            "text/plain": [
              "50"
            ]
          },
          "metadata": {
            "tags": []
          },
          "execution_count": 163
        }
      ]
    },
    {
      "cell_type": "code",
      "metadata": {
        "colab": {
          "base_uri": "https://localhost:8080/"
        },
        "id": "mDh5AqWavfY-",
        "outputId": "01059f25-3835-4c73-9070-8cf33dda4f3f"
      },
      "source": [
        "class C(object):\r\n",
        "  pass\r\n",
        "\r\n",
        "c=C()\r\n",
        "type(c)"
      ],
      "execution_count": null,
      "outputs": [
        {
          "output_type": "execute_result",
          "data": {
            "text/plain": [
              "__main__.C"
            ]
          },
          "metadata": {
            "tags": []
          },
          "execution_count": 169
        }
      ]
    },
    {
      "cell_type": "code",
      "metadata": {
        "colab": {
          "base_uri": "https://localhost:8080/"
        },
        "id": "R9ja4NdEv-lJ",
        "outputId": "2a44ecac-dce7-4126-c189-41584f389e43"
      },
      "source": [
        "import datetime as dt\r\n",
        "\r\n",
        "x.strftime(\"%A %d. %B %Y\")\r\n",
        "print(x.strftime(\"%H시 %M분 %S초\"))"
      ],
      "execution_count": null,
      "outputs": [
        {
          "output_type": "stream",
          "text": [
            "07시 47분 49초\n"
          ],
          "name": "stdout"
        }
      ]
    },
    {
      "cell_type": "code",
      "metadata": {
        "colab": {
          "base_uri": "https://localhost:8080/"
        },
        "id": "A86SU7Y-yue8",
        "outputId": "29f90da0-6874-4b27-c1a4-b932898603c0"
      },
      "source": [
        "from dateutil.parser import parse\r\n",
        "\r\n",
        "parse('2016-04-16')"
      ],
      "execution_count": null,
      "outputs": [
        {
          "output_type": "execute_result",
          "data": {
            "text/plain": [
              "datetime.datetime(2016, 4, 16, 0, 0)"
            ]
          },
          "metadata": {
            "tags": []
          },
          "execution_count": 175
        }
      ]
    },
    {
      "cell_type": "code",
      "metadata": {
        "colab": {
          "base_uri": "https://localhost:8080/"
        },
        "id": "BM4g-7Zyy8my",
        "outputId": "283b3fd5-5e15-4411-b3a4-d8a9c1d22b0c"
      },
      "source": [
        "import time\r\n",
        "\r\n",
        "print(1)\r\n",
        "time.sleep(5)\r\n",
        "print(2)\r\n",
        "time.sleep(5)\r\n",
        "print(3)\r\n",
        "time.sleep(5)\r\n"
      ],
      "execution_count": null,
      "outputs": [
        {
          "output_type": "stream",
          "text": [
            "1\n",
            "2\n",
            "3\n"
          ],
          "name": "stdout"
        }
      ]
    }
  ]
}