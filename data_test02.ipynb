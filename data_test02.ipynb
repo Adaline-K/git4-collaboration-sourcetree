{
  "nbformat": 4,
  "nbformat_minor": 0,
  "metadata": {
    "colab": {
      "name": "data_test02.ipynb",
      "provenance": [],
      "collapsed_sections": [],
      "authorship_tag": "ABX9TyONgvRR9S65sUOz0dBJ6HYc",
      "include_colab_link": true
    },
    "kernelspec": {
      "name": "python3",
      "display_name": "Python 3"
    }
  },
  "cells": [
    {
      "cell_type": "markdown",
      "metadata": {
        "id": "view-in-github",
        "colab_type": "text"
      },
      "source": [
        "<a href=\"https://colab.research.google.com/github/Adaline-K/git4-collaboration-sourcetree/blob/master/data_test02.ipynb\" target=\"_parent\"><img src=\"https://colab.research.google.com/assets/colab-badge.svg\" alt=\"Open In Colab\"/></a>"
      ]
    },
    {
      "cell_type": "markdown",
      "metadata": {
        "id": "5WtdbzEbabmT"
      },
      "source": [
        "**넘파이(NumPy) 배열 프로그래밍**\r\n",
        "\r\n",
        "-배열과 리스트의 차이점을 알고 배열을 사용하는 이유를 이해한다.\r\n",
        "\r\n",
        "-배열을 생성하고 다루는 방법을 익힌다.\r\n",
        "\r\n",
        "-넘파이를 사용하여 기술 통계를 낼 수 있다.\r\n",
        "\r\n",
        "-난수를 발생시키고 그 결과를 분석하는 방법을 공부한다.\r\n",
        "\r\n",
        "\r\n"
      ]
    },
    {
      "cell_type": "code",
      "metadata": {
        "id": "V59uBFW2zoOU",
        "colab": {
          "base_uri": "https://localhost:8080/"
        },
        "outputId": "ae8927fd-5c39-4c4f-d864-ce263d87aed6"
      },
      "source": [
        "#NumPy 패키지사용하여 배열(Array)프로그래밍\r\n",
        "import numpy as np\r\n",
        "\r\n",
        "ar= np.array([0,1,2,3,4,5,6,7,8,9])\r\n",
        "ar\r\n"
      ],
      "execution_count": null,
      "outputs": [
        {
          "output_type": "execute_result",
          "data": {
            "text/plain": [
              "array([0, 1, 2, 3, 4, 5, 6, 7, 8, 9])"
            ]
          },
          "metadata": {
            "tags": []
          },
          "execution_count": 3
        }
      ]
    },
    {
      "cell_type": "code",
      "metadata": {
        "colab": {
          "base_uri": "https://localhost:8080/"
        },
        "id": "nayULLs7qFFX",
        "outputId": "9342c8eb-2c49-42ef-b79a-8161a64faa18"
      },
      "source": [
        "data =[0,1,2,3,4,5,6,7,8,9]\r\n",
        "\r\n",
        "answer=[]\r\n",
        "for di in data:\r\n",
        "   answer.append(2*data[di])\r\n",
        "print(answer)"
      ],
      "execution_count": null,
      "outputs": [
        {
          "output_type": "stream",
          "text": [
            "[0, 2, 4, 6, 8, 10, 12, 14, 16, 18]\n"
          ],
          "name": "stdout"
        }
      ]
    },
    {
      "cell_type": "code",
      "metadata": {
        "colab": {
          "base_uri": "https://localhost:8080/"
        },
        "id": "DOh0rMQWqrEJ",
        "outputId": "8239c304-7700-4426-f694-a08ca7f8814d"
      },
      "source": [
        "x=np.array(data)\r\n",
        "print(x)\r\n",
        "print(2*x)"
      ],
      "execution_count": null,
      "outputs": [
        {
          "output_type": "stream",
          "text": [
            "[0 1 2 3 4 5 6 7 8 9]\n",
            "[ 0  2  4  6  8 10 12 14 16 18]\n"
          ],
          "name": "stdout"
        }
      ]
    },
    {
      "cell_type": "code",
      "metadata": {
        "colab": {
          "base_uri": "https://localhost:8080/"
        },
        "id": "O0PTfePsrtir",
        "outputId": "f79fb6a3-11ba-41ac-dcc4-c26965db9c6a"
      },
      "source": [
        "L=[0,1,2,3,4,5,6,7,8,9]\r\n",
        "print(2*L)"
      ],
      "execution_count": null,
      "outputs": [
        {
          "output_type": "stream",
          "text": [
            "[0, 1, 2, 3, 4, 5, 6, 7, 8, 9, 0, 1, 2, 3, 4, 5, 6, 7, 8, 9]\n"
          ],
          "name": "stdout"
        }
      ]
    },
    {
      "cell_type": "code",
      "metadata": {
        "colab": {
          "base_uri": "https://localhost:8080/"
        },
        "id": "LjailhCuv2ml",
        "outputId": "8d42f193-516f-4397-c14d-e302ab8fa727"
      },
      "source": [
        "a=np.array([1,2,3])\r\n",
        "b=np.array([10,20,30])\r\n",
        "\r\n",
        "print(2*a+b)"
      ],
      "execution_count": null,
      "outputs": [
        {
          "output_type": "stream",
          "text": [
            "[12 24 36]\n"
          ],
          "name": "stdout"
        }
      ]
    },
    {
      "cell_type": "code",
      "metadata": {
        "colab": {
          "base_uri": "https://localhost:8080/"
        },
        "id": "BBJTQIaUwUmI",
        "outputId": "c6fe9610-8731-46bc-c802-3f792005c4ce"
      },
      "source": [
        "a==2"
      ],
      "execution_count": null,
      "outputs": [
        {
          "output_type": "execute_result",
          "data": {
            "text/plain": [
              "array([False,  True, False])"
            ]
          },
          "metadata": {
            "tags": []
          },
          "execution_count": 11
        }
      ]
    },
    {
      "cell_type": "code",
      "metadata": {
        "colab": {
          "base_uri": "https://localhost:8080/"
        },
        "id": "r96rTjawweUn",
        "outputId": "4a6b533f-6606-48a2-f034-4e7f8a82345f"
      },
      "source": [
        "b>10"
      ],
      "execution_count": null,
      "outputs": [
        {
          "output_type": "execute_result",
          "data": {
            "text/plain": [
              "array([False,  True,  True])"
            ]
          },
          "metadata": {
            "tags": []
          },
          "execution_count": 13
        }
      ]
    },
    {
      "cell_type": "code",
      "metadata": {
        "colab": {
          "base_uri": "https://localhost:8080/"
        },
        "id": "lZAY2KxvwvDh",
        "outputId": "4c00aeaa-5c12-4f6e-af41-290f4c6c5b10"
      },
      "source": [
        "(a==2)&(b>10)"
      ],
      "execution_count": null,
      "outputs": [
        {
          "output_type": "execute_result",
          "data": {
            "text/plain": [
              "array([False,  True, False])"
            ]
          },
          "metadata": {
            "tags": []
          },
          "execution_count": 14
        }
      ]
    },
    {
      "cell_type": "code",
      "metadata": {
        "colab": {
          "base_uri": "https://localhost:8080/"
        },
        "id": "RsxxULeHwvdo",
        "outputId": "fc4c55a2-e1cb-4d59-fcb1-67809f16c582"
      },
      "source": [
        "c=np.array([[0,1,2],[3,4,5]])\r\n",
        "print(c)\r\n",
        "print(len(c))\r\n",
        "print(len(c[0]))\r\n"
      ],
      "execution_count": null,
      "outputs": [
        {
          "output_type": "stream",
          "text": [
            "[[0 1 2]\n",
            " [3 4 5]]\n",
            "2\n",
            "3\n"
          ],
          "name": "stdout"
        }
      ]
    },
    {
      "cell_type": "code",
      "metadata": {
        "colab": {
          "base_uri": "https://localhost:8080/"
        },
        "id": "4hvxTtUnyiEx",
        "outputId": "0dfdc500-240d-44c1-e33d-d9518ae65222"
      },
      "source": [
        "d=np.array([[10,20,30,40], [50,60,70,80]])\r\n",
        "print(d)\r\n",
        "print(len(d))\r\n",
        "print(len(d[0]))"
      ],
      "execution_count": null,
      "outputs": [
        {
          "output_type": "stream",
          "text": [
            "[[10 20 30 40]\n",
            " [50 60 70 80]]\n",
            "2\n",
            "4\n"
          ],
          "name": "stdout"
        }
      ]
    },
    {
      "cell_type": "code",
      "metadata": {
        "colab": {
          "base_uri": "https://localhost:8080/"
        },
        "id": "z2lQABoiyx4p",
        "outputId": "101e05bd-9e9b-4571-a5e0-72013bad8403"
      },
      "source": [
        "e=np.array([[[1,2,3,4],\r\n",
        "            [5,6,7,8],\r\n",
        "            [9,10,11,12]],\r\n",
        "            [[11,12,13,14],\r\n",
        "              [15,16,17,18],\r\n",
        "             [19,20,21,22]]])\r\n",
        "print(len(e))\r\n",
        "print(len(e[0]))\r\n",
        "print(len(e[0][0]))\r\n",
        "print()\r\n",
        "print(e.ndim)\r\n",
        "print(e.shape)\r\n"
      ],
      "execution_count": null,
      "outputs": [
        {
          "output_type": "stream",
          "text": [
            "2\n",
            "3\n",
            "4\n",
            "\n",
            "3\n",
            "(2, 3, 4)\n"
          ],
          "name": "stdout"
        }
      ]
    },
    {
      "cell_type": "code",
      "metadata": {
        "id": "NIEB0fdp00s8"
      },
      "source": [
        "a=np.array([0,1,2,3,4])\r\n",
        "print(a[2])\r\n",
        "print(a[-1])\r\n",
        "print()\r\n",
        "\r\n",
        "b=np.array([[10,20,30,40], [50,60,70,80]])\r\n",
        "print(b[0][0])\r\n",
        "print(b[1][3])\r\n",
        "print(b[-1][-1])"
      ],
      "execution_count": null,
      "outputs": []
    },
    {
      "cell_type": "code",
      "metadata": {
        "id": "Ps56hgJi1oaC",
        "colab": {
          "base_uri": "https://localhost:8080/"
        },
        "outputId": "05443629-a038-40c5-974f-909ea65573a6"
      },
      "source": [
        "a=np.array([[0,1,2],[3,4,5]])\r\n",
        "print(a)\r\n",
        "print(a[1][1])\r\n",
        "print(a[0,:])\r\n",
        "print(a[1,1:])"
      ],
      "execution_count": null,
      "outputs": [
        {
          "output_type": "stream",
          "text": [
            "[[0 1 2]\n",
            " [3 4 5]]\n",
            "4\n",
            "[0 1 2]\n",
            "[4 5]\n"
          ],
          "name": "stdout"
        }
      ]
    },
    {
      "cell_type": "code",
      "metadata": {
        "colab": {
          "base_uri": "https://localhost:8080/"
        },
        "id": "riXTUeQhDSKX",
        "outputId": "8e04c058-7fc1-45ee-beb7-b4a99ab2d7e5"
      },
      "source": [
        "#fancy indexing\r\n",
        "a= np.array([0,1,2,3,4,5,6,7,8,9])\r\n",
        "idx=np.array([True, False, True, False, True,\r\n",
        "              False, True, False, True, False])\r\n",
        "a[idx]\r\n",
        "\r\n",
        "print(a%2)\r\n",
        "print()\r\n",
        "print(a%2==0)\r\n",
        "print()\r\n",
        "print(a[a%2==0])\r\n"
      ],
      "execution_count": null,
      "outputs": [
        {
          "output_type": "stream",
          "text": [
            "[0 1 0 1 0 1 0 1 0 1]\n",
            "\n",
            "[ True False  True False  True False  True False  True False]\n",
            "\n",
            "[0 2 4 6 8]\n"
          ],
          "name": "stdout"
        }
      ]
    },
    {
      "cell_type": "code",
      "metadata": {
        "colab": {
          "base_uri": "https://localhost:8080/"
        },
        "id": "TX5RvMs5FHCU",
        "outputId": "21eb6e1c-2e8a-4677-ed18-4cf90ab2fd20"
      },
      "source": [
        "a= np.array([[1,2,3,4],[5,6,7,8],[9,10,11,12]])\r\n",
        "\r\n",
        "print(a)\r\n",
        "print(a[:,[True,False,False,True]])\r\n",
        "print()\r\n",
        "print(a[[2,0,1],:])"
      ],
      "execution_count": null,
      "outputs": [
        {
          "output_type": "stream",
          "text": [
            "[[ 1  2  3  4]\n",
            " [ 5  6  7  8]\n",
            " [ 9 10 11 12]]\n",
            "[[ 1  4]\n",
            " [ 5  8]\n",
            " [ 9 12]]\n",
            "\n",
            "[[ 9 10 11 12]\n",
            " [ 1  2  3  4]\n",
            " [ 5  6  7  8]]\n"
          ],
          "name": "stdout"
        }
      ]
    },
    {
      "cell_type": "code",
      "metadata": {
        "id": "iN4WbrPNyylo",
        "colab": {
          "base_uri": "https://localhost:8080/"
        },
        "outputId": "5728ca74-57d7-4815-a1b7-aa96c984a1b1"
      },
      "source": [
        "x=np.array([1,2,3])\r\n",
        "print(x.dtype)\r\n",
        "\r\n",
        "y=np.array([1,2,3.0])\r\n",
        "print(y.dtype)\r\n",
        "\r\n",
        "a=np.array([1,2,3], dtype='f')\r\n",
        "a.dtype\r\n",
        "print()\r\n",
        "\r\n",
        "print(a[0]+a[1])\r\n",
        "b=np.array([1,2,3], dtype='U')\r\n",
        "b.dtype\r\n",
        "print(b[0]+b[1])\r\n"
      ],
      "execution_count": null,
      "outputs": [
        {
          "output_type": "stream",
          "text": [
            "int64\n",
            "float64\n",
            "\n",
            "3.0\n",
            "12\n"
          ],
          "name": "stdout"
        }
      ]
    },
    {
      "cell_type": "code",
      "metadata": {
        "id": "mlyGD1BYMJUe"
      },
      "source": [
        "d=np.array([0,1,-1,0])/np.array([1,0,0,0])\r\n",
        "d"
      ],
      "execution_count": null,
      "outputs": []
    },
    {
      "cell_type": "code",
      "metadata": {
        "colab": {
          "base_uri": "https://localhost:8080/"
        },
        "id": "B8A4wmVANUcj",
        "outputId": "020bf6f7-7ced-4b3e-d2cf-f69db9e80121"
      },
      "source": [
        "a=np.zeros((2,3)) #0행렬\r\n",
        "print(a)\r\n",
        "print()\r\n",
        "\r\n",
        "b=np.zeros(5, dtype='f')\r\n",
        "b"
      ],
      "execution_count": null,
      "outputs": [
        {
          "output_type": "stream",
          "text": [
            "[[0. 0. 0.]\n",
            " [0. 0. 0.]]\n",
            "\n"
          ],
          "name": "stdout"
        },
        {
          "output_type": "execute_result",
          "data": {
            "text/plain": [
              "array([0., 0., 0., 0., 0.], dtype=float32)"
            ]
          },
          "metadata": {
            "tags": []
          },
          "execution_count": 73
        }
      ]
    },
    {
      "cell_type": "code",
      "metadata": {
        "colab": {
          "base_uri": "https://localhost:8080/"
        },
        "id": "KxG7Nf0WOaUE",
        "outputId": "b7cfca24-176e-4380-e646-31866f184188"
      },
      "source": [
        "e=np.ones((2,3,4), dtype=\"i8\") #1행렬\r\n",
        "e"
      ],
      "execution_count": null,
      "outputs": [
        {
          "output_type": "execute_result",
          "data": {
            "text/plain": [
              "array([[[1, 1, 1, 1],\n",
              "        [1, 1, 1, 1],\n",
              "        [1, 1, 1, 1]],\n",
              "\n",
              "       [[1, 1, 1, 1],\n",
              "        [1, 1, 1, 1],\n",
              "        [1, 1, 1, 1]]])"
            ]
          },
          "metadata": {
            "tags": []
          },
          "execution_count": 74
        }
      ]
    },
    {
      "cell_type": "code",
      "metadata": {
        "colab": {
          "base_uri": "https://localhost:8080/"
        },
        "id": "sHxQX-ujO0n9",
        "outputId": "0a30d2cc-0107-4d33-904b-54d283113725"
      },
      "source": [
        "g=np.empty((4,3)) #배열 초기화\r\n",
        "g"
      ],
      "execution_count": null,
      "outputs": [
        {
          "output_type": "execute_result",
          "data": {
            "text/plain": [
              "array([[4.9e-324, 9.9e-324, 1.5e-323],\n",
              "       [2.0e-323, 2.5e-323, 3.0e-323],\n",
              "       [3.5e-323, 4.0e-323, 4.4e-323],\n",
              "       [4.9e-323, 5.4e-323, 5.9e-323]])"
            ]
          },
          "metadata": {
            "tags": []
          },
          "execution_count": 75
        }
      ]
    },
    {
      "cell_type": "code",
      "metadata": {
        "colab": {
          "base_uri": "https://localhost:8080/"
        },
        "id": "roS6puAyPi9_",
        "outputId": "559b45aa-7567-4bf3-ed0a-ee695605eb13"
      },
      "source": [
        "#range처럼 리스트를 만듦\r\n",
        "f=np.arange(10)\r\n",
        "ff=np.arange(3, 21,2)\r\n",
        "ff\r\n",
        "\r\n",
        "s=np.linspace(0,100,5) #5개로 나눔\r\n",
        "ss=np.logspace(0.1, 1,10)\r\n",
        "ss"
      ],
      "execution_count": null,
      "outputs": [
        {
          "output_type": "execute_result",
          "data": {
            "text/plain": [
              "array([ 1.25892541,  1.58489319,  1.99526231,  2.51188643,  3.16227766,\n",
              "        3.98107171,  5.01187234,  6.30957344,  7.94328235, 10.        ])"
            ]
          },
          "metadata": {
            "tags": []
          },
          "execution_count": 80
        }
      ]
    },
    {
      "cell_type": "code",
      "metadata": {
        "colab": {
          "base_uri": "https://localhost:8080/"
        },
        "id": "NJ0FemY0RGuq",
        "outputId": "c7512452-41b9-487d-9361-ef85d372671a"
      },
      "source": [
        "#전치행렬(Transpose: 행과 열을 바꾸는 행렬)\r\n",
        "A= np.array([[1,2,3], [4,5,6]])\r\n",
        "A.T"
      ],
      "execution_count": null,
      "outputs": [
        {
          "output_type": "execute_result",
          "data": {
            "text/plain": [
              "array([[1, 4],\n",
              "       [2, 5],\n",
              "       [3, 6]])"
            ]
          },
          "metadata": {
            "tags": []
          },
          "execution_count": 81
        }
      ]
    },
    {
      "cell_type": "code",
      "metadata": {
        "colab": {
          "base_uri": "https://localhost:8080/"
        },
        "id": "Xtv35TeHRvbb",
        "outputId": "ebc2e9eb-a972-444c-8df7-a12b64c9c51d"
      },
      "source": [
        "a=np.arange(12)\r\n",
        "print(a)\r\n",
        "b=a.reshape(3,-1)\r\n",
        "print(b)\r\n",
        "\r\n",
        "c=a.reshape(2,2,-1)\r\n",
        "print(c)\r\n",
        "\r\n",
        "d=a.reshape(2,-1,2)\r\n",
        "print(d)"
      ],
      "execution_count": null,
      "outputs": [
        {
          "output_type": "stream",
          "text": [
            "[ 0  1  2  3  4  5  6  7  8  9 10 11]\n",
            "[[ 0  1  2  3]\n",
            " [ 4  5  6  7]\n",
            " [ 8  9 10 11]]\n",
            "[[[ 0  1  2]\n",
            "  [ 3  4  5]]\n",
            "\n",
            " [[ 6  7  8]\n",
            "  [ 9 10 11]]]\n",
            "[[[ 0  1]\n",
            "  [ 2  3]\n",
            "  [ 4  5]]\n",
            "\n",
            " [[ 6  7]\n",
            "  [ 8  9]\n",
            "  [10 11]]]\n"
          ],
          "name": "stdout"
        }
      ]
    },
    {
      "cell_type": "code",
      "metadata": {
        "colab": {
          "base_uri": "https://localhost:8080/"
        },
        "id": "HhptQ2_7VqWK",
        "outputId": "94e8f579-17c7-404f-c146-802013abf7d8"
      },
      "source": [
        "x=np.arange(5)\r\n",
        "print(x)\r\n",
        "y=x.reshape(5,1)\r\n",
        "y"
      ],
      "execution_count": null,
      "outputs": [
        {
          "output_type": "stream",
          "text": [
            "[0 1 2 3 4]\n"
          ],
          "name": "stdout"
        },
        {
          "output_type": "execute_result",
          "data": {
            "text/plain": [
              "array([[0],\n",
              "       [1],\n",
              "       [2],\n",
              "       [3],\n",
              "       [4]])"
            ]
          },
          "metadata": {
            "tags": []
          },
          "execution_count": 93
        }
      ]
    },
    {
      "cell_type": "code",
      "metadata": {
        "colab": {
          "base_uri": "https://localhost:8080/"
        },
        "id": "dGQ8di6wWlSC",
        "outputId": "459b1e72-ec58-4573-ea0e-5d7a3202cfbb"
      },
      "source": [
        "#행렬 연결하기 hstack, vstack\r\n",
        "a1=np.ones((2,3))\r\n",
        "a2=np.zeros((3,3))\r\n",
        "\r\n",
        "a3=np.vstack([a1,a2])\r\n",
        "a3"
      ],
      "execution_count": null,
      "outputs": [
        {
          "output_type": "execute_result",
          "data": {
            "text/plain": [
              "array([[1., 1., 1.],\n",
              "       [1., 1., 1.],\n",
              "       [0., 0., 0.],\n",
              "       [0., 0., 0.],\n",
              "       [0., 0., 0.]])"
            ]
          },
          "metadata": {
            "tags": []
          },
          "execution_count": 98
        }
      ]
    },
    {
      "cell_type": "code",
      "metadata": {
        "colab": {
          "base_uri": "https://localhost:8080/"
        },
        "id": "QOGJ7x_tattN",
        "outputId": "4795e394-6a10-426e-c59f-51d886c0e660"
      },
      "source": [
        "a=np.array([[0,1,2],[3,4,5]])\r\n",
        "np.tile(a,2)\r\n",
        "np.tile(a,(3,2)) #행은 3배, 열은 2배\r\n"
      ],
      "execution_count": null,
      "outputs": [
        {
          "output_type": "execute_result",
          "data": {
            "text/plain": [
              "array([[0, 1, 2, 0, 1, 2],\n",
              "       [3, 4, 5, 3, 4, 5],\n",
              "       [0, 1, 2, 0, 1, 2],\n",
              "       [3, 4, 5, 3, 4, 5],\n",
              "       [0, 1, 2, 0, 1, 2],\n",
              "       [3, 4, 5, 3, 4, 5]])"
            ]
          },
          "metadata": {
            "tags": []
          },
          "execution_count": 101
        }
      ]
    },
    {
      "cell_type": "code",
      "metadata": {
        "colab": {
          "base_uri": "https://localhost:8080/"
        },
        "id": "WRGe9u8abZyD",
        "outputId": "a8a80664-9b05-44de-fe88-f380291a6857"
      },
      "source": [
        "x=np.arange(3)\r\n",
        "y=np.arange(5)\r\n",
        "\r\n",
        "print(x)\r\n",
        "print(y)\r\n",
        "print()\r\n",
        "\r\n",
        "X,Y=np.meshgrid(x,y)\r\n",
        "print(X)\r\n",
        "print()\r\n",
        "print(Y)\r\n",
        "\r\n",
        "print()\r\n",
        "[list(zip(x,y)) for x,y in zip(X,Y)]"
      ],
      "execution_count": null,
      "outputs": [
        {
          "output_type": "stream",
          "text": [
            "[0 1 2]\n",
            "[0 1 2 3 4]\n",
            "\n",
            "[[0 1 2]\n",
            " [0 1 2]\n",
            " [0 1 2]\n",
            " [0 1 2]\n",
            " [0 1 2]]\n",
            "\n",
            "[[0 0 0]\n",
            " [1 1 1]\n",
            " [2 2 2]\n",
            " [3 3 3]\n",
            " [4 4 4]]\n",
            "\n"
          ],
          "name": "stdout"
        },
        {
          "output_type": "execute_result",
          "data": {
            "text/plain": [
              "[[(0, 0), (1, 0), (2, 0)],\n",
              " [(0, 1), (1, 1), (2, 1)],\n",
              " [(0, 2), (1, 2), (2, 2)],\n",
              " [(0, 3), (1, 3), (2, 3)],\n",
              " [(0, 4), (1, 4), (2, 4)]]"
            ]
          },
          "metadata": {
            "tags": []
          },
          "execution_count": 108
        }
      ]
    },
    {
      "cell_type": "code",
      "metadata": {
        "id": "KCLLlkziYWcj"
      },
      "source": [
        "#배열의 연산\r\n",
        "x=np.arange(1,10001)\r\n",
        "y=np.arange(10001,20001)\r\n",
        "\r\n",
        "\r\n",
        "z=np.zeros_like(x)\r\n",
        "for i in range(10000):\r\n",
        "  z[i]=x[i]+y[i]\r\n",
        "\r\n"
      ],
      "execution_count": null,
      "outputs": []
    },
    {
      "cell_type": "code",
      "metadata": {
        "colab": {
          "base_uri": "https://localhost:8080/"
        },
        "id": "LCxOxKq8fZG4",
        "outputId": "8d4662bf-83c3-4866-bb35-70769df23c7c"
      },
      "source": [
        "a=np.array([1,2,3,4])\r\n",
        "b=np.array([4,2,2,4])\r\n",
        "\r\n",
        "np.all(a==b)"
      ],
      "execution_count": null,
      "outputs": [
        {
          "output_type": "execute_result",
          "data": {
            "text/plain": [
              "False"
            ]
          },
          "metadata": {
            "tags": []
          },
          "execution_count": 114
        }
      ]
    },
    {
      "cell_type": "code",
      "metadata": {
        "colab": {
          "base_uri": "https://localhost:8080/"
        },
        "id": "vJoc2Q_GgRwZ",
        "outputId": "498bc9b4-dd13-4412-88dc-de1ab5a03ad8"
      },
      "source": [
        "x=np.arange(10)\r\n",
        "100*x\r\n",
        "y=np.arange(12).reshape(3,4)\r\n",
        "y\r\n",
        "y*100"
      ],
      "execution_count": null,
      "outputs": [
        {
          "output_type": "execute_result",
          "data": {
            "text/plain": [
              "array([[   0,  100,  200,  300],\n",
              "       [ 400,  500,  600,  700],\n",
              "       [ 800,  900, 1000, 1100]])"
            ]
          },
          "metadata": {
            "tags": []
          },
          "execution_count": 119
        }
      ]
    },
    {
      "cell_type": "code",
      "metadata": {
        "colab": {
          "base_uri": "https://localhost:8080/"
        },
        "id": "mktIeEong89y",
        "outputId": "3382c50a-263c-42ad-a2ed-58332103b366"
      },
      "source": [
        "#브로드캐스팅(크기가 다른 행렬의 연산)\r\n",
        "x=np.arange(5)\r\n",
        "y=np.ones_like(x)\r\n",
        "print(x+y)\r\n",
        "print(x+1)"
      ],
      "execution_count": null,
      "outputs": [
        {
          "output_type": "stream",
          "text": [
            "[1 2 3 4 5]\n",
            "[1 2 3 4 5]\n"
          ],
          "name": "stdout"
        }
      ]
    },
    {
      "cell_type": "code",
      "metadata": {
        "colab": {
          "base_uri": "https://localhost:8080/"
        },
        "id": "CQgeqv1YjY11",
        "outputId": "612a307a-4b63-44d8-a246-6e5e0e237915"
      },
      "source": [
        "x=np.vstack([range(7)[i:i +3] for i in range(5)])\r\n",
        "y=np.arange(5)[:, np.newaxis]\r\n",
        "print(x)\r\n",
        "print(y)\r\n",
        "print(x+y)"
      ],
      "execution_count": null,
      "outputs": [
        {
          "output_type": "stream",
          "text": [
            "[[0 1 2]\n",
            " [1 2 3]\n",
            " [2 3 4]\n",
            " [3 4 5]\n",
            " [4 5 6]]\n",
            "[[0]\n",
            " [1]\n",
            " [2]\n",
            " [3]\n",
            " [4]]\n",
            "[[ 0  1  2]\n",
            " [ 2  3  4]\n",
            " [ 4  5  6]\n",
            " [ 6  7  8]\n",
            " [ 8  9 10]]\n"
          ],
          "name": "stdout"
        }
      ]
    },
    {
      "cell_type": "code",
      "metadata": {
        "colab": {
          "base_uri": "https://localhost:8080/"
        },
        "id": "EuMOzzijlHGY",
        "outputId": "8a246864-f6b2-4f1a-fef2-688c09f97fe9"
      },
      "source": [
        "x=np.array([1,2,3,1])\r\n",
        "print(x.sum())\r\n",
        "print(x.min())\r\n",
        "print(x.max())\r\n",
        "print(x.argmin()) #최소값의 위치\r\n",
        "print(x.argmax()) #최대값의 위치\r\n",
        "print(x.mean()) #평균\r\n",
        "np.median(x)\r\n",
        "np.all([True, True,False])\r\n"
      ],
      "execution_count": null,
      "outputs": [
        {
          "output_type": "stream",
          "text": [
            "7\n",
            "1\n",
            "3\n",
            "0\n",
            "2\n",
            "1.75\n"
          ],
          "name": "stdout"
        },
        {
          "output_type": "execute_result",
          "data": {
            "text/plain": [
              "False"
            ]
          },
          "metadata": {
            "tags": []
          },
          "execution_count": 143
        }
      ]
    },
    {
      "cell_type": "code",
      "metadata": {
        "colab": {
          "base_uri": "https://localhost:8080/"
        },
        "id": "LzEK3Mdfnx3d",
        "outputId": "659f78d7-3d81-4ea1-96e9-a6864bfe469e"
      },
      "source": [
        "a=np.zeros((100,100), dtype=np.int)\r\n",
        "print(np.any(a!=0))\r\n",
        "print(np.all(a==a))"
      ],
      "execution_count": null,
      "outputs": [
        {
          "output_type": "stream",
          "text": [
            "False\n",
            "True\n"
          ],
          "name": "stdout"
        }
      ]
    },
    {
      "cell_type": "code",
      "metadata": {
        "colab": {
          "base_uri": "https://localhost:8080/"
        },
        "id": "a4RiY5iqoais",
        "outputId": "7ca277b2-c40d-49c0-d6bd-3f0a5a741d0d"
      },
      "source": [
        "a=np.array([1,2,3,2])\r\n",
        "b=np.array([2,2,3,2])\r\n",
        "c=np.array([6,4,4,5])\r\n",
        "\r\n",
        "((a <=b) & (b <=c)).all()"
      ],
      "execution_count": null,
      "outputs": [
        {
          "output_type": "execute_result",
          "data": {
            "text/plain": [
              "True"
            ]
          },
          "metadata": {
            "tags": []
          },
          "execution_count": 147
        }
      ]
    },
    {
      "cell_type": "code",
      "metadata": {
        "colab": {
          "base_uri": "https://localhost:8080/"
        },
        "id": "Hz231AwZqHCf",
        "outputId": "2a7f5f46-38bd-4faf-a532-92d0a48531fc"
      },
      "source": [
        "x=np.array([[1,1], [2,2]])\r\n",
        "print(x)\r\n",
        "print(x.sum())\r\n",
        "print(x.sum(axis=0)) #열합계\r\n",
        "print()\r\n",
        "print(x.sum(axis=1)) #행합계\r\n"
      ],
      "execution_count": null,
      "outputs": [
        {
          "output_type": "stream",
          "text": [
            "[[1 1]\n",
            " [2 2]]\n",
            "6\n",
            "[3 3]\n",
            "\n",
            "[2 4]\n"
          ],
          "name": "stdout"
        }
      ]
    },
    {
      "cell_type": "code",
      "metadata": {
        "colab": {
          "base_uri": "https://localhost:8080/"
        },
        "id": "tE5AqXNpp6r-",
        "outputId": "ebd92835-720c-4990-fc5a-dfb5c18bca05"
      },
      "source": [
        "#정렬\r\n",
        "a= np.array([[4,3,5,7],\r\n",
        "             [1,12,11,9],\r\n",
        "             [2,15,1,14]])\r\n",
        "\r\n",
        "np.sort(a) #axis=1 or axis=-1 (행기준)\r\n",
        "np.sort(a, axis=0) #열기준\r\n",
        "\r\n",
        "a.sort(axis=1)\r\n",
        "a"
      ],
      "execution_count": null,
      "outputs": [
        {
          "output_type": "execute_result",
          "data": {
            "text/plain": [
              "array([[ 3,  4,  5,  7],\n",
              "       [ 1,  9, 11, 12],\n",
              "       [ 1,  2, 14, 15]])"
            ]
          },
          "metadata": {
            "tags": []
          },
          "execution_count": 162
        }
      ]
    },
    {
      "cell_type": "code",
      "metadata": {
        "colab": {
          "base_uri": "https://localhost:8080/"
        },
        "id": "smI-08fnufSb",
        "outputId": "c84d2f41-fa2d-4fb7-946a-a21bb0384fef"
      },
      "source": [
        "a=np.array([42,38,12,25])\r\n",
        "j=np.argsort(a) #정렬의 순서\r\n",
        "print(j)\r\n",
        "print(a[j])"
      ],
      "execution_count": null,
      "outputs": [
        {
          "output_type": "stream",
          "text": [
            "[2 3 1 0]\n",
            "[12 25 38 42]\n"
          ],
          "name": "stdout"
        }
      ]
    },
    {
      "cell_type": "code",
      "metadata": {
        "id": "NDmpU8QRQ2Hs"
      },
      "source": [
        ""
      ],
      "execution_count": null,
      "outputs": []
    },
    {
      "cell_type": "code",
      "metadata": {
        "colab": {
          "base_uri": "https://localhost:8080/"
        },
        "id": "EGRly3w5vqru",
        "outputId": "d89e74b0-c65b-4773-b5bf-561e90083e87"
      },
      "source": [
        "#Descriptive Statistics\r\n",
        "\r\n",
        "x=np.array([18,5,10,23,19,-8,10,0,0,\r\n",
        "            2,5,4,15,-1,4,-7,-24,7])\r\n",
        "print(len(x))\r\n",
        "print(np.mean(x))\r\n",
        "print(np.sum(x))\r\n",
        "print(np.var(x)) #분산\r\n",
        "print()\r\n",
        "np.var(x,ddof=1)"
      ],
      "execution_count": null,
      "outputs": [
        {
          "output_type": "stream",
          "text": [
            "18\n",
            "4.555555555555555\n",
            "82\n",
            "116.13580246913583\n",
            "\n"
          ],
          "name": "stdout"
        },
        {
          "output_type": "execute_result",
          "data": {
            "text/plain": [
              "122.96732026143793"
            ]
          },
          "metadata": {
            "tags": []
          },
          "execution_count": 174
        }
      ]
    },
    {
      "cell_type": "code",
      "metadata": {
        "id": "PcH4FXyzQ4Ut"
      },
      "source": [
        ""
      ],
      "execution_count": null,
      "outputs": []
    },
    {
      "cell_type": "code",
      "metadata": {
        "colab": {
          "base_uri": "https://localhost:8080/"
        },
        "id": "4R5UFxPoMI4h",
        "outputId": "015aabf3-297e-45d1-cb61-d9283a28dda6"
      },
      "source": [
        "y=np.array([18,5,10,23,19,-8,10,0,0,\r\n",
        "            2,5,4,15,-1,4,-7,-24,7])\r\n",
        "\r\n",
        "print(np.var(y))\r\n",
        "print(np.std(x))\r\n",
        "print()\r\n",
        "print(np.max(y))\r\n",
        "print(np.min(y))\r\n",
        "print()\r\n",
        "print(np.median(x))"
      ],
      "execution_count": null,
      "outputs": [
        {
          "output_type": "stream",
          "text": [
            "116.13580246913583\n",
            "10.77663224152777\n",
            "\n",
            "23\n",
            "-24\n",
            "\n",
            "4.5\n"
          ],
          "name": "stdout"
        }
      ]
    },
    {
      "cell_type": "code",
      "metadata": {
        "colab": {
          "base_uri": "https://localhost:8080/"
        },
        "id": "kxhVg3clNatk",
        "outputId": "a4eddfd8-78e3-4f85-980e-41a3b19e58df"
      },
      "source": [
        "#사분위수(quartile): 데이터를 가장 작은 수부터 가장 큰수까지 크기가 커지는 순서대로 정렬하였을때,\r\n",
        "# 각각 1사분위수, 2사분위수, 3사분위수로 정하고, 1/4의 위치\r\n",
        "\r\n",
        "y=np.array([18,5,10,23,19,-8,10,0,0,\r\n",
        "            2,5,4,15,-1,4,-7,-24,7])\r\n",
        "\r\n",
        "np.percentile(x,0)\r\n",
        "np.percentile(x,25)\r\n",
        "np.percentile(x,50)\r\n",
        "np.percentile(x,75)\r\n",
        "np.percentile(x,100)"
      ],
      "execution_count": null,
      "outputs": [
        {
          "output_type": "execute_result",
          "data": {
            "text/plain": [
              "23.0"
            ]
          },
          "metadata": {
            "tags": []
          },
          "execution_count": 184
        }
      ]
    },
    {
      "cell_type": "code",
      "metadata": {
        "colab": {
          "base_uri": "https://localhost:8080/"
        },
        "id": "HQugBjAtQ5YM",
        "outputId": "ecedda4a-3126-4aa9-a155-569392b00879"
      },
      "source": [
        "np.random.rand(10)"
      ],
      "execution_count": null,
      "outputs": [
        {
          "output_type": "execute_result",
          "data": {
            "text/plain": [
              "array([0.08074127, 0.7384403 , 0.44130922, 0.15830987, 0.87993703,\n",
              "       0.27408646, 0.41423502, 0.29607993, 0.62878791, 0.57983781])"
            ]
          },
          "metadata": {
            "tags": []
          },
          "execution_count": 191
        }
      ]
    },
    {
      "cell_type": "code",
      "metadata": {
        "colab": {
          "base_uri": "https://localhost:8080/"
        },
        "id": "SMvAzXbnTuyu",
        "outputId": "494b4086-dfe7-4aba-fb1f-f677853b220a"
      },
      "source": [
        "np.random.seed(0)\r\n",
        "np.random.rand(5)"
      ],
      "execution_count": null,
      "outputs": [
        {
          "output_type": "execute_result",
          "data": {
            "text/plain": [
              "array([0.5488135 , 0.71518937, 0.60276338, 0.54488318, 0.4236548 ])"
            ]
          },
          "metadata": {
            "tags": []
          },
          "execution_count": 192
        }
      ]
    },
    {
      "cell_type": "code",
      "metadata": {
        "colab": {
          "base_uri": "https://localhost:8080/"
        },
        "id": "jZ6W76e5UF-J",
        "outputId": "e51832f1-b2ee-4631-c928-467275db5e87"
      },
      "source": [
        "#데이터 순서바꾸기\r\n",
        "x=np.arange(10)\r\n",
        "print(x)\r\n",
        "np.random.shuffle(x) \r\n",
        "x"
      ],
      "execution_count": null,
      "outputs": [
        {
          "output_type": "stream",
          "text": [
            "[0 1 2 3 4 5 6 7 8 9]\n"
          ],
          "name": "stdout"
        },
        {
          "output_type": "execute_result",
          "data": {
            "text/plain": [
              "array([5, 2, 3, 4, 1, 0, 9, 8, 7, 6])"
            ]
          },
          "metadata": {
            "tags": []
          },
          "execution_count": 195
        }
      ]
    },
    {
      "cell_type": "code",
      "metadata": {
        "colab": {
          "base_uri": "https://localhost:8080/"
        },
        "id": "KUOxhgPGTt4X",
        "outputId": "b71c2be5-b890-496e-9043-6509a031e90d"
      },
      "source": [
        "#데이터 샘플링\r\n",
        "np.random.choice(5,3,replace=False)"
      ],
      "execution_count": null,
      "outputs": [
        {
          "output_type": "execute_result",
          "data": {
            "text/plain": [
              "array([2, 4, 1])"
            ]
          },
          "metadata": {
            "tags": []
          },
          "execution_count": 197
        }
      ]
    },
    {
      "cell_type": "code",
      "metadata": {
        "colab": {
          "base_uri": "https://localhost:8080/"
        },
        "id": "TGFMmUEkXdZP",
        "outputId": "d22d2275-3ace-4047-8602-6fb7075b7160"
      },
      "source": [
        "np.random.choice(5,10, p=[0.1,0,0.3,0.6,0])"
      ],
      "execution_count": null,
      "outputs": [
        {
          "output_type": "execute_result",
          "data": {
            "text/plain": [
              "array([2, 3, 3, 3, 3, 3, 3, 3, 3, 3])"
            ]
          },
          "metadata": {
            "tags": []
          },
          "execution_count": 198
        }
      ]
    },
    {
      "cell_type": "code",
      "metadata": {
        "colab": {
          "base_uri": "https://localhost:8080/"
        },
        "id": "hZx67ON5X9jQ",
        "outputId": "df5d7b25-9600-4030-d0d2-9f46a697aa99"
      },
      "source": [
        "\r\n",
        "np.random.randn(3,5)"
      ],
      "execution_count": null,
      "outputs": [
        {
          "output_type": "execute_result",
          "data": {
            "text/plain": [
              "array([[-0.49114966,  0.71267817,  1.11334035, -2.15367459, -0.41611148],\n",
              "       [-1.07089699,  0.22113881, -1.12305712, -1.05075796,  1.01207905],\n",
              "       [ 1.54371643, -0.40211489,  0.8647491 , -0.22686923,  0.81116027]])"
            ]
          },
          "metadata": {
            "tags": []
          },
          "execution_count": 203
        }
      ]
    },
    {
      "cell_type": "code",
      "metadata": {
        "colab": {
          "base_uri": "https://localhost:8080/"
        },
        "id": "oO3EsqxKYt_K",
        "outputId": "2605a226-f06c-4a1f-dff1-004862f3f20d"
      },
      "source": [
        "np.random.randint(10,20,size=10)"
      ],
      "execution_count": null,
      "outputs": [
        {
          "output_type": "execute_result",
          "data": {
            "text/plain": [
              "array([10, 14, 13, 16, 19, 18, 10, 18, 15, 19])"
            ]
          },
          "metadata": {
            "tags": []
          },
          "execution_count": 204
        }
      ]
    }
  ]
}