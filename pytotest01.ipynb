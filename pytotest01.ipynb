{
  "nbformat": 4,
  "nbformat_minor": 0,
  "metadata": {
    "colab": {
      "name": "pytotest01.ipynb",
      "provenance": [],
      "collapsed_sections": [],
      "authorship_tag": "ABX9TyMC0uoUV9XHXJNpMN0bpC8z",
      "include_colab_link": true
    },
    "kernelspec": {
      "name": "python3",
      "display_name": "Python 3"
    }
  },
  "cells": [
    {
      "cell_type": "markdown",
      "metadata": {
        "id": "view-in-github",
        "colab_type": "text"
      },
      "source": [
        "<a href=\"https://colab.research.google.com/github/Adaline-K/git4-collaboration-sourcetree/blob/master/pytotest01.ipynb\" target=\"_parent\"><img src=\"https://colab.research.google.com/assets/colab-badge.svg\" alt=\"Open In Colab\"/></a>"
      ]
    },
    {
      "cell_type": "code",
      "metadata": {
        "id": "ZCkkVACjXD9W"
      },
      "source": [
        "from __future__ import print_function\r\n",
        "import torch\r\n",
        "\r\n"
      ],
      "execution_count": 2,
      "outputs": []
    },
    {
      "cell_type": "code",
      "metadata": {
        "colab": {
          "base_uri": "https://localhost:8080/"
        },
        "id": "X7GWjp1Zbwks",
        "outputId": "b492de1e-2d62-48e2-840c-c81afb954efe"
      },
      "source": [
        "x= torch.empty(5,3)\r\n",
        "print(x)"
      ],
      "execution_count": 5,
      "outputs": [
        {
          "output_type": "stream",
          "text": [
            "tensor([[3.3144e-36, 0.0000e+00, 2.3694e-38],\n",
            "        [6.2382e+26, 1.1362e+30, 7.1547e+22],\n",
            "        [4.5828e+30, 1.2121e+04, 7.1846e+22],\n",
            "        [9.2198e-39, 7.0374e+22, 0.0000e+00],\n",
            "        [0.0000e+00, 0.0000e+00, 0.0000e+00]])\n"
          ],
          "name": "stdout"
        }
      ]
    },
    {
      "cell_type": "code",
      "metadata": {
        "colab": {
          "base_uri": "https://localhost:8080/"
        },
        "id": "1vhZw89scLSm",
        "outputId": "5fd7fe0d-869b-4f29-d32c-0423f78b5db2"
      },
      "source": [
        "x=torch.rand(5,3)\r\n",
        "print(x)"
      ],
      "execution_count": 6,
      "outputs": [
        {
          "output_type": "stream",
          "text": [
            "tensor([[0.3742, 0.9642, 0.6435],\n",
            "        [0.0624, 0.1028, 0.1867],\n",
            "        [0.1184, 0.2271, 0.1448],\n",
            "        [0.8124, 0.2921, 0.7791],\n",
            "        [0.0969, 0.7414, 0.3620]])\n"
          ],
          "name": "stdout"
        }
      ]
    },
    {
      "cell_type": "code",
      "metadata": {
        "colab": {
          "base_uri": "https://localhost:8080/"
        },
        "id": "ryMeaUFMcr5P",
        "outputId": "faf08c91-4b90-4bf8-eb36-7946e90af94f"
      },
      "source": [
        "x=torch.zeros(5,3, dtype=torch.long)\r\n",
        "print(x)"
      ],
      "execution_count": 8,
      "outputs": [
        {
          "output_type": "stream",
          "text": [
            "tensor([[0, 0, 0],\n",
            "        [0, 0, 0],\n",
            "        [0, 0, 0],\n",
            "        [0, 0, 0],\n",
            "        [0, 0, 0]])\n"
          ],
          "name": "stdout"
        }
      ]
    },
    {
      "cell_type": "code",
      "metadata": {
        "colab": {
          "base_uri": "https://localhost:8080/"
        },
        "id": "KA2vv4o4dMm6",
        "outputId": "b97ee491-ceda-4e61-c4ea-8b8978b5eef5"
      },
      "source": [
        "x=torch.tensor([5.5,3])\r\n",
        "print(x)"
      ],
      "execution_count": 9,
      "outputs": [
        {
          "output_type": "stream",
          "text": [
            "tensor([5.5000, 3.0000])\n"
          ],
          "name": "stdout"
        }
      ]
    },
    {
      "cell_type": "code",
      "metadata": {
        "colab": {
          "base_uri": "https://localhost:8080/"
        },
        "id": "YpCo16RreD3y",
        "outputId": "663227dc-25c1-441d-b582-82266443c7a5"
      },
      "source": [
        "x=x.new_ones(5,3, dtype=torch.double)\r\n",
        "print(x)"
      ],
      "execution_count": 10,
      "outputs": [
        {
          "output_type": "stream",
          "text": [
            "tensor([[1., 1., 1.],\n",
            "        [1., 1., 1.],\n",
            "        [1., 1., 1.],\n",
            "        [1., 1., 1.],\n",
            "        [1., 1., 1.]], dtype=torch.float64)\n"
          ],
          "name": "stdout"
        }
      ]
    },
    {
      "cell_type": "code",
      "metadata": {
        "colab": {
          "base_uri": "https://localhost:8080/"
        },
        "id": "YiS75sTNexNN",
        "outputId": "a8266d82-81ba-4aaa-df7d-70e8efc30ed8"
      },
      "source": [
        "x=torch.randn_like(x, dtype=torch.float)\r\n",
        "print(x)"
      ],
      "execution_count": 13,
      "outputs": [
        {
          "output_type": "stream",
          "text": [
            "tensor([[ 0.1360, -0.4301, -0.9714],\n",
            "        [ 0.2258, -0.9006, -1.0489],\n",
            "        [-0.2819, -1.5775,  0.3899],\n",
            "        [ 0.2593,  0.3689,  0.2558],\n",
            "        [-0.3542, -0.6209, -0.8489]])\n"
          ],
          "name": "stdout"
        }
      ]
    },
    {
      "cell_type": "code",
      "metadata": {
        "colab": {
          "base_uri": "https://localhost:8080/"
        },
        "id": "Y_V2ypVUfyxY",
        "outputId": "3d6fe605-5485-4e55-9f90-ccd5357ee35f"
      },
      "source": [
        "print(x.size())"
      ],
      "execution_count": 14,
      "outputs": [
        {
          "output_type": "stream",
          "text": [
            "torch.Size([5, 3])\n"
          ],
          "name": "stdout"
        }
      ]
    },
    {
      "cell_type": "code",
      "metadata": {
        "colab": {
          "base_uri": "https://localhost:8080/"
        },
        "id": "G9PxSxDVf_IK",
        "outputId": "421d1144-72c8-4d3d-e705-0dfc52bbbde4"
      },
      "source": [
        "y=torch.rand(5,3)\r\n",
        "print(x+y)"
      ],
      "execution_count": 16,
      "outputs": [
        {
          "output_type": "stream",
          "text": [
            "tensor([[ 0.4538, -0.0624, -0.0636],\n",
            "        [ 0.2476,  0.0021, -0.4286],\n",
            "        [ 0.2579, -1.5305,  0.5432],\n",
            "        [ 1.1774,  1.3483,  0.4218],\n",
            "        [ 0.3227, -0.4499, -0.3596]])\n"
          ],
          "name": "stdout"
        }
      ]
    },
    {
      "cell_type": "code",
      "metadata": {
        "colab": {
          "base_uri": "https://localhost:8080/"
        },
        "id": "LZJre2eZgUeQ",
        "outputId": "db1252ab-2b58-4c10-8af6-9b3613fa6f84"
      },
      "source": [
        "print(torch.add(x,y))"
      ],
      "execution_count": 17,
      "outputs": [
        {
          "output_type": "stream",
          "text": [
            "tensor([[ 0.4538, -0.0624, -0.0636],\n",
            "        [ 0.2476,  0.0021, -0.4286],\n",
            "        [ 0.2579, -1.5305,  0.5432],\n",
            "        [ 1.1774,  1.3483,  0.4218],\n",
            "        [ 0.3227, -0.4499, -0.3596]])\n"
          ],
          "name": "stdout"
        }
      ]
    },
    {
      "cell_type": "code",
      "metadata": {
        "colab": {
          "base_uri": "https://localhost:8080/"
        },
        "id": "Bt5Hg6upgh_4",
        "outputId": "a9bdd2ca-0d90-463f-e442-0fc6f54658b9"
      },
      "source": [
        "result = torch.empty(5,3)\r\n",
        "torch.add(x,y, out=result)\r\n",
        "print(result)"
      ],
      "execution_count": 18,
      "outputs": [
        {
          "output_type": "stream",
          "text": [
            "tensor([[ 0.4538, -0.0624, -0.0636],\n",
            "        [ 0.2476,  0.0021, -0.4286],\n",
            "        [ 0.2579, -1.5305,  0.5432],\n",
            "        [ 1.1774,  1.3483,  0.4218],\n",
            "        [ 0.3227, -0.4499, -0.3596]])\n"
          ],
          "name": "stdout"
        }
      ]
    },
    {
      "cell_type": "code",
      "metadata": {
        "colab": {
          "base_uri": "https://localhost:8080/"
        },
        "id": "IKtdfeSjh6CU",
        "outputId": "85630d6f-4ef1-4274-9103-8d3a8edfab0f"
      },
      "source": [
        "y.add_(x)\r\n",
        "print(y)"
      ],
      "execution_count": 19,
      "outputs": [
        {
          "output_type": "stream",
          "text": [
            "tensor([[ 0.4538, -0.0624, -0.0636],\n",
            "        [ 0.2476,  0.0021, -0.4286],\n",
            "        [ 0.2579, -1.5305,  0.5432],\n",
            "        [ 1.1774,  1.3483,  0.4218],\n",
            "        [ 0.3227, -0.4499, -0.3596]])\n"
          ],
          "name": "stdout"
        }
      ]
    },
    {
      "cell_type": "code",
      "metadata": {
        "colab": {
          "base_uri": "https://localhost:8080/"
        },
        "id": "gZNjZS41iFFm",
        "outputId": "78d9e6b6-446b-466b-8c04-8424f7ec6988"
      },
      "source": [
        "x= torch.randn(4,4)\r\n",
        "y= x.view(16)\r\n",
        "z= x.view(-1,8)\r\n",
        "print(x.size(), y.size(), z.size())"
      ],
      "execution_count": 21,
      "outputs": [
        {
          "output_type": "stream",
          "text": [
            "torch.Size([4, 4]) torch.Size([16]) torch.Size([2, 8])\n"
          ],
          "name": "stdout"
        }
      ]
    },
    {
      "cell_type": "code",
      "metadata": {
        "colab": {
          "base_uri": "https://localhost:8080/"
        },
        "id": "PZqHQdqTjWmE",
        "outputId": "55bb372e-ecc7-493a-b531-84e66ec959d9"
      },
      "source": [
        "print(x)"
      ],
      "execution_count": 22,
      "outputs": [
        {
          "output_type": "stream",
          "text": [
            "tensor([[ 0.4634, -0.3350, -1.1435, -1.7606],\n",
            "        [-1.2990, -0.2985,  0.4700,  1.0161],\n",
            "        [ 1.0735,  1.4455,  0.9557,  0.2254],\n",
            "        [ 0.3676, -0.9835,  0.0428,  1.6866]])\n"
          ],
          "name": "stdout"
        }
      ]
    },
    {
      "cell_type": "code",
      "metadata": {
        "colab": {
          "base_uri": "https://localhost:8080/"
        },
        "id": "onp44qUTjYwW",
        "outputId": "39f6382e-0087-4b98-8c02-59ad913d66bd"
      },
      "source": [
        "x=torch.randn(1)\r\n",
        "print(x)\r\n",
        "print(x.item())"
      ],
      "execution_count": 23,
      "outputs": [
        {
          "output_type": "stream",
          "text": [
            "tensor([-0.8518])\n",
            "-0.8518206477165222\n"
          ],
          "name": "stdout"
        }
      ]
    },
    {
      "cell_type": "code",
      "metadata": {
        "colab": {
          "base_uri": "https://localhost:8080/"
        },
        "id": "1w8PEJkDjrgQ",
        "outputId": "6307f52c-2388-4aa6-9ba0-a9750676f3dd"
      },
      "source": [
        "x=torch.randn(1)\r\n",
        "print(x)\r\n",
        "print(x.item())"
      ],
      "execution_count": 24,
      "outputs": [
        {
          "output_type": "stream",
          "text": [
            "tensor([-1.5713])\n",
            "-1.571345329284668\n"
          ],
          "name": "stdout"
        }
      ]
    },
    {
      "cell_type": "code",
      "metadata": {
        "colab": {
          "base_uri": "https://localhost:8080/"
        },
        "id": "8JADTSSokoVX",
        "outputId": "d5567c0b-d42f-4eca-9a75-ae66c3ca81f6"
      },
      "source": [
        "#Numpy 변환(Bridge)\r\n",
        "#Torch Tensor를 Numpy 배열(array)로 변환\r\n",
        "\r\n",
        "a= torch.ones(5)\r\n",
        "print(a)\r\n"
      ],
      "execution_count": 28,
      "outputs": [
        {
          "output_type": "stream",
          "text": [
            "tensor([1., 1., 1., 1., 1.])\n"
          ],
          "name": "stdout"
        }
      ]
    },
    {
      "cell_type": "code",
      "metadata": {
        "colab": {
          "base_uri": "https://localhost:8080/"
        },
        "id": "fzTxXdhrltTR",
        "outputId": "27f5fbef-f382-4391-faba-8de36a05b201"
      },
      "source": [
        "b=a.numpy()\r\n",
        "print(b)"
      ],
      "execution_count": 29,
      "outputs": [
        {
          "output_type": "stream",
          "text": [
            "[1. 1. 1. 1. 1.]\n"
          ],
          "name": "stdout"
        }
      ]
    },
    {
      "cell_type": "code",
      "metadata": {
        "colab": {
          "base_uri": "https://localhost:8080/"
        },
        "id": "6c32z8YRmHut",
        "outputId": "092cba50-221e-4878-96f7-b83f8b719dba"
      },
      "source": [
        "a.add_(1)\r\n",
        "print(a)\r\n",
        "print(b) #Numpy로 변한 a"
      ],
      "execution_count": 31,
      "outputs": [
        {
          "output_type": "stream",
          "text": [
            "tensor([2., 2., 2., 2., 2.])\n",
            "[2. 2. 2. 2. 2.]\n"
          ],
          "name": "stdout"
        }
      ]
    },
    {
      "cell_type": "code",
      "metadata": {
        "colab": {
          "base_uri": "https://localhost:8080/"
        },
        "id": "bnEC1bD0nCP_",
        "outputId": "e36ca521-9cf5-44c5-f110-1d605046ce47"
      },
      "source": [
        "#Numpy 배열을 Torch Tensor로 변환\r\n",
        "import numpy as np\r\n",
        "\r\n",
        "a=np.ones(5)\r\n",
        "b=torch.from_numpy(a)\r\n",
        "np.add(a,1,out=a)\r\n",
        "print(a)\r\n",
        "print(b)"
      ],
      "execution_count": 32,
      "outputs": [
        {
          "output_type": "stream",
          "text": [
            "[2. 2. 2. 2. 2.]\n",
            "tensor([2., 2., 2., 2., 2.], dtype=torch.float64)\n"
          ],
          "name": "stdout"
        }
      ]
    },
    {
      "cell_type": "code",
      "metadata": {
        "id": "5AuZEVTsrpyM"
      },
      "source": [
        "#자동미분\r\n"
      ],
      "execution_count": null,
      "outputs": []
    }
  ]
}