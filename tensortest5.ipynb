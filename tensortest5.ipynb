{
  "nbformat": 4,
  "nbformat_minor": 0,
  "metadata": {
    "colab": {
      "name": "tensortest5.ipynb",
      "provenance": [],
      "collapsed_sections": [],
      "authorship_tag": "ABX9TyP0WNoxiJZ9aigunnIb34sP",
      "include_colab_link": true
    },
    "kernelspec": {
      "name": "python3",
      "display_name": "Python 3"
    }
  },
  "cells": [
    {
      "cell_type": "markdown",
      "metadata": {
        "id": "view-in-github",
        "colab_type": "text"
      },
      "source": [
        "<a href=\"https://colab.research.google.com/github/Adaline-K/git4-collaboration-sourcetree/blob/master/tensortest5.ipynb\" target=\"_parent\"><img src=\"https://colab.research.google.com/assets/colab-badge.svg\" alt=\"Open In Colab\"/></a>"
      ]
    },
    {
      "cell_type": "code",
      "metadata": {
        "id": "IC0kC1TL6cIk"
      },
      "source": [
        "#라이브러리 사용\r\n",
        "import tensorflow as tf\r\n",
        "import pandas as pd"
      ],
      "execution_count": 2,
      "outputs": []
    },
    {
      "cell_type": "code",
      "metadata": {
        "colab": {
          "base_uri": "https://localhost:8080/"
        },
        "id": "1P8B-qQcOCi7",
        "outputId": "f71c6c3d-b030-4bf2-ce2a-377a965e7533"
      },
      "source": [
        "#보스턴 집값 예측\r\n",
        "#과거 데이터 준비\r\n",
        "파일경로 = 'https://raw.githubusercontent.com/blackdew/tensorflow1/master/csv/boston.csv'\r\n",
        "보스턴 = pd.read_csv(파일경로)\r\n",
        "print(보스턴.columns)\r\n",
        "\r\n",
        "#종속, 독립변수\r\n",
        "독립 = 보스턴[['crim', 'zn', 'indus', 'chas', 'nox', 'rm', 'age', 'dis', 'rad', 'tax',\r\n",
        "       'ptratio', 'b', 'lstat']]\r\n",
        "종속 = 보스턴[['medv']]\r\n",
        "print(독립.shape, 종속.shape)"
      ],
      "execution_count": 5,
      "outputs": [
        {
          "output_type": "stream",
          "text": [
            "Index(['crim', 'zn', 'indus', 'chas', 'nox', 'rm', 'age', 'dis', 'rad', 'tax',\n",
            "       'ptratio', 'b', 'lstat', 'medv'],\n",
            "      dtype='object')\n",
            "(506, 13) (506, 1)\n"
          ],
          "name": "stdout"
        }
      ]
    },
    {
      "cell_type": "code",
      "metadata": {
        "id": "V56eaNK2OHd2"
      },
      "source": [
        "#모델구조만들기\r\n",
        "X = tf.keras.layers.Input(shape=[13])\r\n",
        "H = tf.keras.layers.Dense(10, activation='swish')(X)\r\n",
        "Y = tf.keras.layers.Dense(1)(H)\r\n",
        "model = tf.keras.models.Model(X,Y)\r\n",
        "model.compile(loss='mse')"
      ],
      "execution_count": 6,
      "outputs": []
    },
    {
      "cell_type": "code",
      "metadata": {
        "colab": {
          "base_uri": "https://localhost:8080/"
        },
        "id": "SjSYUDZHONrO",
        "outputId": "12f1b794-c8e7-4f92-fd84-ac715241d80f"
      },
      "source": [
        "#모델구조확인\r\n",
        "model.summary()"
      ],
      "execution_count": 7,
      "outputs": [
        {
          "output_type": "stream",
          "text": [
            "Model: \"model\"\n",
            "_________________________________________________________________\n",
            "Layer (type)                 Output Shape              Param #   \n",
            "=================================================================\n",
            "input_1 (InputLayer)         [(None, 13)]              0         \n",
            "_________________________________________________________________\n",
            "dense (Dense)                (None, 10)                140       \n",
            "_________________________________________________________________\n",
            "dense_1 (Dense)              (None, 1)                 11        \n",
            "=================================================================\n",
            "Total params: 151\n",
            "Trainable params: 151\n",
            "Non-trainable params: 0\n",
            "_________________________________________________________________\n"
          ],
          "name": "stdout"
        }
      ]
    },
    {
      "cell_type": "code",
      "metadata": {
        "colab": {
          "base_uri": "https://localhost:8080/"
        },
        "id": "3mpfrsugOQC6",
        "outputId": "8e82b596-13e4-40cc-8620-e7117edbf3c1"
      },
      "source": [
        "#데이터로 모델학습시키기(FIT)\r\n",
        "model.fit(독립, 종속, epochs=20)\r\n"
      ],
      "execution_count": 15,
      "outputs": [
        {
          "output_type": "stream",
          "text": [
            "Epoch 1/20\n",
            "16/16 [==============================] - 0s 1ms/step - loss: 20.7857\n",
            "Epoch 2/20\n",
            "16/16 [==============================] - 0s 1ms/step - loss: 21.3204\n",
            "Epoch 3/20\n",
            "16/16 [==============================] - 0s 1ms/step - loss: 20.9954\n",
            "Epoch 4/20\n",
            "16/16 [==============================] - 0s 1ms/step - loss: 21.5238\n",
            "Epoch 5/20\n",
            "16/16 [==============================] - 0s 1ms/step - loss: 20.7231\n",
            "Epoch 6/20\n",
            "16/16 [==============================] - 0s 1ms/step - loss: 21.6188\n",
            "Epoch 7/20\n",
            "16/16 [==============================] - 0s 1ms/step - loss: 21.4435\n",
            "Epoch 8/20\n",
            "16/16 [==============================] - 0s 1ms/step - loss: 20.9751\n",
            "Epoch 9/20\n",
            "16/16 [==============================] - 0s 1ms/step - loss: 21.8173\n",
            "Epoch 10/20\n",
            "16/16 [==============================] - 0s 1ms/step - loss: 21.2402\n",
            "Epoch 11/20\n",
            "16/16 [==============================] - 0s 1ms/step - loss: 21.9554\n",
            "Epoch 12/20\n",
            "16/16 [==============================] - 0s 1ms/step - loss: 21.5781\n",
            "Epoch 13/20\n",
            "16/16 [==============================] - 0s 1ms/step - loss: 21.2099\n",
            "Epoch 14/20\n",
            "16/16 [==============================] - 0s 1ms/step - loss: 21.1934\n",
            "Epoch 15/20\n",
            "16/16 [==============================] - 0s 1ms/step - loss: 21.2849\n",
            "Epoch 16/20\n",
            "16/16 [==============================] - 0s 1ms/step - loss: 21.6810\n",
            "Epoch 17/20\n",
            "16/16 [==============================] - 0s 1ms/step - loss: 20.7612\n",
            "Epoch 18/20\n",
            "16/16 [==============================] - 0s 1ms/step - loss: 21.7449\n",
            "Epoch 19/20\n",
            "16/16 [==============================] - 0s 1ms/step - loss: 21.7887\n",
            "Epoch 20/20\n",
            "16/16 [==============================] - 0s 1ms/step - loss: 21.8469\n"
          ],
          "name": "stdout"
        },
        {
          "output_type": "execute_result",
          "data": {
            "text/plain": [
              "<tensorflow.python.keras.callbacks.History at 0x7f1091773e80>"
            ]
          },
          "metadata": {
            "tags": []
          },
          "execution_count": 15
        }
      ]
    },
    {
      "cell_type": "code",
      "metadata": {
        "colab": {
          "base_uri": "https://localhost:8080/"
        },
        "id": "SSL8jEpBOTzM",
        "outputId": "0145b3c9-6357-4d03-adbe-cec1fe7bf5a6"
      },
      "source": [
        "#모델이용\r\n",
        "print(model.predict(독립[0:5]))\r\n",
        "print(종속[0:5])\r\n"
      ],
      "execution_count": 16,
      "outputs": [
        {
          "output_type": "stream",
          "text": [
            "[[30.463396]\n",
            " [23.097076]\n",
            " [30.425547]\n",
            " [33.349503]\n",
            " [31.122194]]\n",
            "   medv\n",
            "0  24.0\n",
            "1  21.6\n",
            "2  34.7\n",
            "3  33.4\n",
            "4  36.2\n"
          ],
          "name": "stdout"
        }
      ]
    },
    {
      "cell_type": "code",
      "metadata": {
        "colab": {
          "base_uri": "https://localhost:8080/"
        },
        "id": "vjV0N_JUSCCS",
        "outputId": "9d2fde4f-9185-4e3d-b7d1-c9c5fcb1a02b"
      },
      "source": [
        "#아이리스 품종 분류\r\n",
        "#과거의 데이터 준비\r\n",
        "파일경로 = 'https://raw.githubusercontent.com/blackdew/tensorflow1/master/csv/iris.csv'\r\n",
        "아이리스 = pd.read_csv(파일경로)\r\n",
        "\r\n",
        "#원핫인코딩\r\n",
        "아이리스 = pd.get_dummies(아이리스)\r\n",
        "print(아이리스.columns)\r\n",
        "#독립, 종속변수\r\n",
        "독립 = 아이리스[['꽃잎길이', '꽃잎폭', '꽃받침길이', '꽃받침폭']]\r\n",
        "종속 = 아이리스[['품종_setosa', '품종_versicolor',\r\n",
        "       '품종_virginica']]\r\n",
        "print(독립.shape, 종속.shape)"
      ],
      "execution_count": 21,
      "outputs": [
        {
          "output_type": "stream",
          "text": [
            "Index(['꽃잎길이', '꽃잎폭', '꽃받침길이', '꽃받침폭', '품종_setosa', '품종_versicolor',\n",
            "       '품종_virginica'],\n",
            "      dtype='object')\n",
            "(150, 4) (150, 3)\n"
          ],
          "name": "stdout"
        }
      ]
    },
    {
      "cell_type": "code",
      "metadata": {
        "id": "C5yO6_ebSHUE"
      },
      "source": [
        "#모델구조 만들기\r\n",
        "X = tf.keras.layers.Input(shape=[4])\r\n",
        "H = tf.keras.layers.Dense(8, activation='swish')(X)\r\n",
        "H = tf.keras.layers.Dense(8, activation='swish')(H)\r\n",
        "H = tf.keras.layers.Dense(8, activation='swish')(H)\r\n",
        "Y = tf.keras.layers.Dense(3, activation='softmax')(H)\r\n",
        "model = tf.keras.models.Model(X,Y)\r\n",
        "model.compile(loss='categorical_crossentropy', metrics='accuracy')"
      ],
      "execution_count": 27,
      "outputs": []
    },
    {
      "cell_type": "code",
      "metadata": {
        "colab": {
          "base_uri": "https://localhost:8080/"
        },
        "id": "1qRCKA8WSJtJ",
        "outputId": "36d3a8ac-bef4-4ca2-cfdf-4c007730a569"
      },
      "source": [
        "#모델구조 확인\r\n",
        "model.summary()"
      ],
      "execution_count": 28,
      "outputs": [
        {
          "output_type": "stream",
          "text": [
            "Model: \"model_3\"\n",
            "_________________________________________________________________\n",
            "Layer (type)                 Output Shape              Param #   \n",
            "=================================================================\n",
            "input_4 (InputLayer)         [(None, 4)]               0         \n",
            "_________________________________________________________________\n",
            "dense_10 (Dense)             (None, 8)                 40        \n",
            "_________________________________________________________________\n",
            "dense_11 (Dense)             (None, 8)                 72        \n",
            "_________________________________________________________________\n",
            "dense_12 (Dense)             (None, 8)                 72        \n",
            "_________________________________________________________________\n",
            "dense_13 (Dense)             (None, 3)                 27        \n",
            "=================================================================\n",
            "Total params: 211\n",
            "Trainable params: 211\n",
            "Non-trainable params: 0\n",
            "_________________________________________________________________\n"
          ],
          "name": "stdout"
        }
      ]
    },
    {
      "cell_type": "code",
      "metadata": {
        "colab": {
          "base_uri": "https://localhost:8080/"
        },
        "id": "q-QO79AHSM2e",
        "outputId": "f40fea1c-bb3c-44e3-b0a0-14a2166d8f07"
      },
      "source": [
        "#데이터로 모델 학습시키기(FIT)\r\n",
        "model.fit(독립, 종속, epochs=100)"
      ],
      "execution_count": 29,
      "outputs": [
        {
          "output_type": "stream",
          "text": [
            "Epoch 1/100\n",
            "5/5 [==============================] - 1s 3ms/step - loss: 2.1392 - accuracy: 0.3069\n",
            "Epoch 2/100\n",
            "5/5 [==============================] - 0s 2ms/step - loss: 1.7100 - accuracy: 0.3498\n",
            "Epoch 3/100\n",
            "5/5 [==============================] - 0s 2ms/step - loss: 1.5584 - accuracy: 0.3485\n",
            "Epoch 4/100\n",
            "5/5 [==============================] - 0s 2ms/step - loss: 1.3953 - accuracy: 0.3668\n",
            "Epoch 5/100\n",
            "5/5 [==============================] - 0s 2ms/step - loss: 1.3804 - accuracy: 0.2999\n",
            "Epoch 6/100\n",
            "5/5 [==============================] - 0s 3ms/step - loss: 1.2665 - accuracy: 0.3307\n",
            "Epoch 7/100\n",
            "5/5 [==============================] - 0s 2ms/step - loss: 1.2082 - accuracy: 0.3376\n",
            "Epoch 8/100\n",
            "5/5 [==============================] - 0s 2ms/step - loss: 1.1819 - accuracy: 0.2438\n",
            "Epoch 9/100\n",
            "5/5 [==============================] - 0s 2ms/step - loss: 1.1457 - accuracy: 0.1342\n",
            "Epoch 10/100\n",
            "5/5 [==============================] - 0s 2ms/step - loss: 1.1177 - accuracy: 0.1995\n",
            "Epoch 11/100\n",
            "5/5 [==============================] - 0s 2ms/step - loss: 1.0981 - accuracy: 0.2926\n",
            "Epoch 12/100\n",
            "5/5 [==============================] - 0s 2ms/step - loss: 1.0803 - accuracy: 0.3879\n",
            "Epoch 13/100\n",
            "5/5 [==============================] - 0s 2ms/step - loss: 1.0705 - accuracy: 0.4118\n",
            "Epoch 14/100\n",
            "5/5 [==============================] - 0s 2ms/step - loss: 1.0548 - accuracy: 0.4772\n",
            "Epoch 15/100\n",
            "5/5 [==============================] - 0s 2ms/step - loss: 1.0402 - accuracy: 0.5325\n",
            "Epoch 16/100\n",
            "5/5 [==============================] - 0s 3ms/step - loss: 1.0255 - accuracy: 0.6931\n",
            "Epoch 17/100\n",
            "5/5 [==============================] - 0s 3ms/step - loss: 1.0075 - accuracy: 0.6807\n",
            "Epoch 18/100\n",
            "5/5 [==============================] - 0s 4ms/step - loss: 0.9915 - accuracy: 0.7505\n",
            "Epoch 19/100\n",
            "5/5 [==============================] - 0s 3ms/step - loss: 0.9744 - accuracy: 0.7276\n",
            "Epoch 20/100\n",
            "5/5 [==============================] - 0s 2ms/step - loss: 0.9434 - accuracy: 0.7193\n",
            "Epoch 21/100\n",
            "5/5 [==============================] - 0s 3ms/step - loss: 0.9320 - accuracy: 0.6930\n",
            "Epoch 22/100\n",
            "5/5 [==============================] - 0s 3ms/step - loss: 0.8955 - accuracy: 0.7189\n",
            "Epoch 23/100\n",
            "5/5 [==============================] - 0s 3ms/step - loss: 0.8807 - accuracy: 0.6913\n",
            "Epoch 24/100\n",
            "5/5 [==============================] - 0s 3ms/step - loss: 0.8572 - accuracy: 0.6829\n",
            "Epoch 25/100\n",
            "5/5 [==============================] - 0s 2ms/step - loss: 0.8238 - accuracy: 0.7142\n",
            "Epoch 26/100\n",
            "5/5 [==============================] - 0s 3ms/step - loss: 0.8033 - accuracy: 0.6811\n",
            "Epoch 27/100\n",
            "5/5 [==============================] - 0s 3ms/step - loss: 0.7697 - accuracy: 0.6946\n",
            "Epoch 28/100\n",
            "5/5 [==============================] - 0s 2ms/step - loss: 0.7589 - accuracy: 0.6804\n",
            "Epoch 29/100\n",
            "5/5 [==============================] - 0s 3ms/step - loss: 0.7415 - accuracy: 0.7110\n",
            "Epoch 30/100\n",
            "5/5 [==============================] - 0s 3ms/step - loss: 0.6999 - accuracy: 0.7069\n",
            "Epoch 31/100\n",
            "5/5 [==============================] - 0s 3ms/step - loss: 0.6570 - accuracy: 0.7447\n",
            "Epoch 32/100\n",
            "5/5 [==============================] - 0s 2ms/step - loss: 0.6630 - accuracy: 0.7128\n",
            "Epoch 33/100\n",
            "5/5 [==============================] - 0s 3ms/step - loss: 0.6379 - accuracy: 0.7359\n",
            "Epoch 34/100\n",
            "5/5 [==============================] - 0s 3ms/step - loss: 0.6015 - accuracy: 0.7711\n",
            "Epoch 35/100\n",
            "5/5 [==============================] - 0s 3ms/step - loss: 0.5936 - accuracy: 0.7538\n",
            "Epoch 36/100\n",
            "5/5 [==============================] - 0s 2ms/step - loss: 0.6061 - accuracy: 0.7213\n",
            "Epoch 37/100\n",
            "5/5 [==============================] - 0s 3ms/step - loss: 0.5680 - accuracy: 0.7503\n",
            "Epoch 38/100\n",
            "5/5 [==============================] - 0s 2ms/step - loss: 0.5347 - accuracy: 0.7957\n",
            "Epoch 39/100\n",
            "5/5 [==============================] - 0s 2ms/step - loss: 0.5049 - accuracy: 0.8073\n",
            "Epoch 40/100\n",
            "5/5 [==============================] - 0s 2ms/step - loss: 0.4985 - accuracy: 0.8289\n",
            "Epoch 41/100\n",
            "5/5 [==============================] - 0s 2ms/step - loss: 0.4583 - accuracy: 0.8586\n",
            "Epoch 42/100\n",
            "5/5 [==============================] - 0s 2ms/step - loss: 0.4528 - accuracy: 0.8535\n",
            "Epoch 43/100\n",
            "5/5 [==============================] - 0s 3ms/step - loss: 0.4298 - accuracy: 0.8686\n",
            "Epoch 44/100\n",
            "5/5 [==============================] - 0s 3ms/step - loss: 0.4345 - accuracy: 0.9038\n",
            "Epoch 45/100\n",
            "5/5 [==============================] - 0s 2ms/step - loss: 0.4298 - accuracy: 0.8275\n",
            "Epoch 46/100\n",
            "5/5 [==============================] - 0s 2ms/step - loss: 0.4326 - accuracy: 0.9037\n",
            "Epoch 47/100\n",
            "5/5 [==============================] - 0s 3ms/step - loss: 0.4285 - accuracy: 0.8639\n",
            "Epoch 48/100\n",
            "5/5 [==============================] - 0s 3ms/step - loss: 0.3954 - accuracy: 0.8706\n",
            "Epoch 49/100\n",
            "5/5 [==============================] - 0s 3ms/step - loss: 0.3844 - accuracy: 0.9205\n",
            "Epoch 50/100\n",
            "5/5 [==============================] - 0s 3ms/step - loss: 0.3680 - accuracy: 0.9139\n",
            "Epoch 51/100\n",
            "5/5 [==============================] - 0s 4ms/step - loss: 0.3752 - accuracy: 0.9457\n",
            "Epoch 52/100\n",
            "5/5 [==============================] - 0s 2ms/step - loss: 0.3465 - accuracy: 0.9194\n",
            "Epoch 53/100\n",
            "5/5 [==============================] - 0s 3ms/step - loss: 0.3352 - accuracy: 0.9406\n",
            "Epoch 54/100\n",
            "5/5 [==============================] - 0s 2ms/step - loss: 0.3090 - accuracy: 0.9632\n",
            "Epoch 55/100\n",
            "5/5 [==============================] - 0s 2ms/step - loss: 0.3370 - accuracy: 0.9653\n",
            "Epoch 56/100\n",
            "5/5 [==============================] - 0s 4ms/step - loss: 0.2979 - accuracy: 0.9580\n",
            "Epoch 57/100\n",
            "5/5 [==============================] - 0s 3ms/step - loss: 0.2903 - accuracy: 0.9624\n",
            "Epoch 58/100\n",
            "5/5 [==============================] - 0s 3ms/step - loss: 0.2873 - accuracy: 0.9697\n",
            "Epoch 59/100\n",
            "5/5 [==============================] - 0s 2ms/step - loss: 0.2914 - accuracy: 0.9742\n",
            "Epoch 60/100\n",
            "5/5 [==============================] - 0s 3ms/step - loss: 0.2911 - accuracy: 0.9559\n",
            "Epoch 61/100\n",
            "5/5 [==============================] - 0s 2ms/step - loss: 0.2760 - accuracy: 0.9720\n",
            "Epoch 62/100\n",
            "5/5 [==============================] - 0s 2ms/step - loss: 0.2597 - accuracy: 0.9681\n",
            "Epoch 63/100\n",
            "5/5 [==============================] - 0s 3ms/step - loss: 0.2491 - accuracy: 0.9820\n",
            "Epoch 64/100\n",
            "5/5 [==============================] - 0s 2ms/step - loss: 0.2235 - accuracy: 0.9855\n",
            "Epoch 65/100\n",
            "5/5 [==============================] - 0s 3ms/step - loss: 0.2364 - accuracy: 0.9790\n",
            "Epoch 66/100\n",
            "5/5 [==============================] - 0s 2ms/step - loss: 0.2347 - accuracy: 0.9686\n",
            "Epoch 67/100\n",
            "5/5 [==============================] - 0s 3ms/step - loss: 0.2150 - accuracy: 0.9746\n",
            "Epoch 68/100\n",
            "5/5 [==============================] - 0s 2ms/step - loss: 0.2010 - accuracy: 0.9777\n",
            "Epoch 69/100\n",
            "5/5 [==============================] - 0s 2ms/step - loss: 0.2118 - accuracy: 0.9733\n",
            "Epoch 70/100\n",
            "5/5 [==============================] - 0s 2ms/step - loss: 0.2046 - accuracy: 0.9729\n",
            "Epoch 71/100\n",
            "5/5 [==============================] - 0s 2ms/step - loss: 0.1864 - accuracy: 0.9886\n",
            "Epoch 72/100\n",
            "5/5 [==============================] - 0s 2ms/step - loss: 0.2008 - accuracy: 0.9625\n",
            "Epoch 73/100\n",
            "5/5 [==============================] - 0s 2ms/step - loss: 0.1768 - accuracy: 0.9812\n",
            "Epoch 74/100\n",
            "5/5 [==============================] - 0s 2ms/step - loss: 0.1808 - accuracy: 0.9869\n",
            "Epoch 75/100\n",
            "5/5 [==============================] - 0s 2ms/step - loss: 0.1820 - accuracy: 0.9768\n",
            "Epoch 76/100\n",
            "5/5 [==============================] - 0s 2ms/step - loss: 0.1795 - accuracy: 0.9790\n",
            "Epoch 77/100\n",
            "5/5 [==============================] - 0s 2ms/step - loss: 0.1625 - accuracy: 0.9834\n",
            "Epoch 78/100\n",
            "5/5 [==============================] - 0s 3ms/step - loss: 0.1596 - accuracy: 0.9829\n",
            "Epoch 79/100\n",
            "5/5 [==============================] - 0s 2ms/step - loss: 0.1808 - accuracy: 0.9739\n",
            "Epoch 80/100\n",
            "5/5 [==============================] - 0s 2ms/step - loss: 0.1550 - accuracy: 0.9943\n",
            "Epoch 81/100\n",
            "5/5 [==============================] - 0s 2ms/step - loss: 0.1593 - accuracy: 0.9825\n",
            "Epoch 82/100\n",
            "5/5 [==============================] - 0s 2ms/step - loss: 0.1483 - accuracy: 0.9869\n",
            "Epoch 83/100\n",
            "5/5 [==============================] - 0s 2ms/step - loss: 0.1461 - accuracy: 0.9899\n",
            "Epoch 84/100\n",
            "5/5 [==============================] - 0s 2ms/step - loss: 0.1331 - accuracy: 0.9837\n",
            "Epoch 85/100\n",
            "5/5 [==============================] - 0s 2ms/step - loss: 0.1510 - accuracy: 0.9791\n",
            "Epoch 86/100\n",
            "5/5 [==============================] - 0s 3ms/step - loss: 0.1350 - accuracy: 0.9816\n",
            "Epoch 87/100\n",
            "5/5 [==============================] - 0s 5ms/step - loss: 0.1383 - accuracy: 0.9812\n",
            "Epoch 88/100\n",
            "5/5 [==============================] - 0s 3ms/step - loss: 0.1262 - accuracy: 0.9834\n",
            "Epoch 89/100\n",
            "5/5 [==============================] - 0s 3ms/step - loss: 0.1349 - accuracy: 0.9790\n",
            "Epoch 90/100\n",
            "5/5 [==============================] - 0s 4ms/step - loss: 0.1081 - accuracy: 0.9877\n",
            "Epoch 91/100\n",
            "5/5 [==============================] - 0s 3ms/step - loss: 0.1252 - accuracy: 0.9886\n",
            "Epoch 92/100\n",
            "5/5 [==============================] - 0s 2ms/step - loss: 0.1310 - accuracy: 0.9777\n",
            "Epoch 93/100\n",
            "5/5 [==============================] - 0s 2ms/step - loss: 0.1235 - accuracy: 0.9738\n",
            "Epoch 94/100\n",
            "5/5 [==============================] - 0s 3ms/step - loss: 0.1275 - accuracy: 0.9817\n",
            "Epoch 95/100\n",
            "5/5 [==============================] - 0s 3ms/step - loss: 0.1003 - accuracy: 0.9890\n",
            "Epoch 96/100\n",
            "5/5 [==============================] - 0s 2ms/step - loss: 0.1339 - accuracy: 0.9739\n",
            "Epoch 97/100\n",
            "5/5 [==============================] - 0s 3ms/step - loss: 0.1152 - accuracy: 0.9816\n",
            "Epoch 98/100\n",
            "5/5 [==============================] - 0s 3ms/step - loss: 0.1154 - accuracy: 0.9877\n",
            "Epoch 99/100\n",
            "5/5 [==============================] - 0s 3ms/step - loss: 0.1064 - accuracy: 0.9869\n",
            "Epoch 100/100\n",
            "5/5 [==============================] - 0s 3ms/step - loss: 0.0988 - accuracy: 0.9847\n"
          ],
          "name": "stdout"
        },
        {
          "output_type": "execute_result",
          "data": {
            "text/plain": [
              "<tensorflow.python.keras.callbacks.History at 0x7f108f6f3240>"
            ]
          },
          "metadata": {
            "tags": []
          },
          "execution_count": 29
        }
      ]
    },
    {
      "cell_type": "code",
      "metadata": {
        "colab": {
          "base_uri": "https://localhost:8080/"
        },
        "id": "TwDRsEJ_SRJl",
        "outputId": "701f94d3-0129-42bd-90c6-5ac902adb548"
      },
      "source": [
        "#모델이용\r\n",
        "print(model.predict(독립[0:5]))\r\n",
        "print(종속[0:5])"
      ],
      "execution_count": 26,
      "outputs": [
        {
          "output_type": "stream",
          "text": [
            "[[9.9812514e-01 4.5377540e-04 1.4210468e-03]\n",
            " [9.9695933e-01 1.1155244e-03 1.9252517e-03]\n",
            " [9.9728930e-01 7.5782376e-04 1.9529337e-03]\n",
            " [9.9620759e-01 1.4456611e-03 2.3468148e-03]\n",
            " [9.9808609e-01 4.3015435e-04 1.4838669e-03]]\n",
            "   품종_setosa  품종_versicolor  품종_virginica\n",
            "0          1              0             0\n",
            "1          1              0             0\n",
            "2          1              0             0\n",
            "3          1              0             0\n",
            "4          1              0             0\n"
          ],
          "name": "stdout"
        }
      ]
    }
  ]
}